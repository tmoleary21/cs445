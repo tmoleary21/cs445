{
 "cells": [
  {
   "cell_type": "markdown",
   "metadata": {},
   "source": [
    "# A1.1 Linear Regression with SGD"
   ]
  },
  {
   "cell_type": "markdown",
   "metadata": {},
   "source": [
    "* A1.1: *Added preliminary grading script in last cells of notebook.*"
   ]
  },
  {
   "cell_type": "markdown",
   "metadata": {},
   "source": [
    "In this assignment, you will implement three functions `train`, `use`, and `rmse` and apply them to some weather data.\n",
    "Here are the specifications for these functions, which you must satisfy."
   ]
  },
  {
   "cell_type": "markdown",
   "metadata": {},
   "source": [
    "`model = train(X, T, learning_rate, n_epochs, verbose)`\n",
    "* `X`: is an $N$ x $D$ matrix of input data samples, one per row. $N$ is the number of samples and $D$ is the number of variable values in\n",
    "each sample.\n",
    "* `T`: is an $N$ x $K$ matrix of desired target values for each sample.  $K$ is the number of output values you want to predict for each sample.\n",
    "* `learning_rate`: is a scalar that controls the step size of each update to the weight values.\n",
    "* `n_epochs`: is the number of epochs, or passes, through all $N$ samples, to take while updating the weight values.\n",
    "* `verbose`: is True or False (default value) to control whether or not occasional text is printed to show the training progress.\n",
    "* `model`: is the returned value, which must be a dictionary with the keys `'w'`, `'Xmeans'`, `'Xstds'`, `'Tmeans'` and `'Tstds'`.\n",
    "\n",
    "`Y = use(X, model)`\n",
    "* `X`: is an $N$ x $D$ matrix of input data samples, one per row, for which you want to predict the target values.\n",
    "* `model`: is the dictionary returned by `train`.\n",
    "* `Y`: is the returned $N$ x $K$ matrix of predicted values, one for each sample in `X`.\n",
    "\n",
    "`result = rmse(Y, T)`\n",
    "* `Y`: is an $N$ x $K$ matrix of predictions produced by `use`.\n",
    "* `T`: is the $N$ x $K$ matrix of target values.\n",
    "* `result`: is a scalar calculated as the square root of the mean of the squared differences between each sample (row) in `Y` and `T`."
   ]
  },
  {
   "cell_type": "markdown",
   "metadata": {},
   "source": [
    "To get you started, here are the standard imports we need."
   ]
  },
  {
   "cell_type": "code",
   "execution_count": 4,
   "metadata": {
    "lines_to_next_cell": 1
   },
   "outputs": [],
   "source": [
    "import numpy as np\n",
    "import matplotlib.pyplot as plt\n",
    "import pandas as pd"
   ]
  },
  {
   "cell_type": "markdown",
   "metadata": {},
   "source": [
    "## 60 points: 40 for train, 10 for use, 10 for rmse"
   ]
  },
  {
   "cell_type": "markdown",
   "metadata": {},
   "source": [
    "Now here is a start at defining the `train`, `use`, and `rmse`\n",
    "functions.  Fill in the correct code wherever you see `. . .` with\n",
    "one or more lines of code."
   ]
  },
  {
   "cell_type": "code",
   "execution_count": 5,
   "metadata": {
    "lines_to_next_cell": 1
   },
   "outputs": [],
   "source": [
    "def train(X, T, learning_rate, n_epochs, verbose=False):\n",
    "\n",
    "    # Calculate means and standard deviations of each column in X and T\n",
    "    Xmeans = X.mean(axis=0)\n",
    "    Xstds = X.std(axis=0)\n",
    "    Tmeans = T.mean(axis=0)\n",
    "    Tstds = T.std(axis=0)\n",
    "    \n",
    "    # Use the means and standard deviations to standardize X and T\n",
    "    X = (X - Xmeans) / Xstds\n",
    "    T = (T - Tmeans) / Tstds\n",
    "    \n",
    "    # Insert the column of constant 1's as a new initial column in X\n",
    "    X = np.insert(X, 0, 1, axis=1)\n",
    "    print(X)\n",
    "    \n",
    "    # Initialize weights to be a numpy array of the correct shape and all zeros values.\n",
    "    w = np.zeros((X.shape[1], T.shape[1])) # D+1 x K\n",
    "\n",
    "    for epoch in range(n_epochs):\n",
    "        sqerror_sum = 0\n",
    "        n_samples = X.shape[0]\n",
    "        for n in range(n_samples):\n",
    "            # Use current weight values to predict output for sample n, then\n",
    "            # calculate the error, and\n",
    "            # update the weight values.\n",
    "            prediction = X[n:n+1] @ w\n",
    "            error = T[n:n+1] - prediction\n",
    "            w += learning_rate * X[n:n+1].T * error\n",
    "            \n",
    "            # Add the squared error to sqerror_sum\n",
    "            sqerror_sum += error ** 2\n",
    "            \n",
    "        if verbose and (n_epochs < 11 or (epoch + 1) % (n_epochs // 10) == 0):\n",
    "            rmse = np.sqrt(sqerror_sum / n_samples)\n",
    "            rmse = rmse[0, 0]  # because rmse is 1x1 matrix\n",
    "            print(f'Epoch {epoch + 1} RMSE {rmse:.2f}')\n",
    "\n",
    "    return {'w': w, 'Xmeans': Xmeans, 'Xstds': Xstds,\n",
    "            'Tmeans': Tmeans, 'Tstds': Tstds}"
   ]
  },
  {
   "cell_type": "code",
   "execution_count": 6,
   "metadata": {
    "lines_to_next_cell": 1
   },
   "outputs": [],
   "source": [
    "def use(X, model):\n",
    "    # Standardize X using Xmeans and Xstds in model\n",
    "    X = (X - model['Xmeans']) / model['Xstds']\n",
    "    # Predict output values using weights in model\n",
    "    prediction = np.insert(X, 0, 1, axis=1) @ model['w']\n",
    "    # Unstandardize the predicted output values using Tmeans and Tstds in model\n",
    "    output = (prediction * model['Tstds']) + model['Tmeans']\n",
    "    # Return the unstandardized output values\n",
    "    return output"
   ]
  },
  {
   "cell_type": "code",
   "execution_count": 7,
   "metadata": {
    "lines_to_next_cell": 1
   },
   "outputs": [],
   "source": [
    "def rmse(A, B):\n",
    "    return np.sqrt( np.mean( (A - B)**2))"
   ]
  },
  {
   "cell_type": "markdown",
   "metadata": {},
   "source": [
    "Here is a simple example use of your functions to help you debug them.  Your functions must produce the same results."
   ]
  },
  {
   "cell_type": "code",
   "execution_count": 8,
   "metadata": {},
   "outputs": [
    {
     "data": {
      "image/png": "[encoded data removed]",
      "text/plain": [
       "<Figure size 432x288 with 1 Axes>"
      ]
     },
     "metadata": {
      "needs_background": "light"
     },
     "output_type": "display_data"
    }
   ],
   "source": [
    "X = np.arange(0, 100).reshape(-1, 1)  # make X a 100 x 1 matrix\n",
    "T = 0.5 + 0.3 * X + 0.005 * (X - 50) ** 2\n",
    "plt.plot(X, T, '.')\n",
    "plt.xlabel('X')\n",
    "plt.ylabel('T');"
   ]
  },
  {
   "cell_type": "code",
   "execution_count": 9,
   "metadata": {},
   "outputs": [
    {
     "name": "stdout",
     "output_type": "stream",
     "text": [
      "[[ 1.         -1.71481604]\n",
      " [ 1.         -1.68017329]\n",
      " [ 1.         -1.64553055]\n",
      " [ 1.         -1.6108878 ]\n",
      " [ 1.         -1.57624505]\n",
      " [ 1.         -1.5416023 ]\n",
      " [ 1.         -1.50695955]\n",
      " [ 1.         -1.4723168 ]\n",
      " [ 1.         -1.43767406]\n",
      " [ 1.         -1.40303131]\n",
      " [ 1.         -1.36838856]\n",
      " [ 1.         -1.33374581]\n",
      " [ 1.         -1.29910306]\n",
      " [ 1.         -1.26446031]\n",
      " [ 1.         -1.22981757]\n",
      " [ 1.         -1.19517482]\n",
      " [ 1.         -1.16053207]\n",
      " [ 1.         -1.12588932]\n",
      " [ 1.         -1.09124657]\n",
      " [ 1.         -1.05660382]\n",
      " [ 1.         -1.02196108]\n",
      " [ 1.         -0.98731833]\n",
      " [ 1.         -0.95267558]\n",
      " [ 1.         -0.91803283]\n",
      " [ 1.         -0.88339008]\n",
      " [ 1.         -0.84874733]\n",
      " [ 1.         -0.81410459]\n",
      " [ 1.         -0.77946184]\n",
      " [ 1.         -0.74481909]\n",
      " [ 1.         -0.71017634]\n",
      " [ 1.         -0.67553359]\n",
      " [ 1.         -0.64089084]\n",
      " [ 1.         -0.6062481 ]\n",
      " [ 1.         -0.57160535]\n",
      " [ 1.         -0.5369626 ]\n",
      " [ 1.         -0.50231985]\n",
      " [ 1.         -0.4676771 ]\n",
      " [ 1.         -0.43303435]\n",
      " [ 1.         -0.39839161]\n",
      " [ 1.         -0.36374886]\n",
      " [ 1.         -0.32910611]\n",
      " [ 1.         -0.29446336]\n",
      " [ 1.         -0.25982061]\n",
      " [ 1.         -0.22517786]\n",
      " [ 1.         -0.19053512]\n",
      " [ 1.         -0.15589237]\n",
      " [ 1.         -0.12124962]\n",
      " [ 1.         -0.08660687]\n",
      " [ 1.         -0.05196412]\n",
      " [ 1.         -0.01732137]\n",
      " [ 1.          0.01732137]\n",
      " [ 1.          0.05196412]\n",
      " [ 1.          0.08660687]\n",
      " [ 1.          0.12124962]\n",
      " [ 1.          0.15589237]\n",
      " [ 1.          0.19053512]\n",
      " [ 1.          0.22517786]\n",
      " [ 1.          0.25982061]\n",
      " [ 1.          0.29446336]\n",
      " [ 1.          0.32910611]\n",
      " [ 1.          0.36374886]\n",
      " [ 1.          0.39839161]\n",
      " [ 1.          0.43303435]\n",
      " [ 1.          0.4676771 ]\n",
      " [ 1.          0.50231985]\n",
      " [ 1.          0.5369626 ]\n",
      " [ 1.          0.57160535]\n",
      " [ 1.          0.6062481 ]\n",
      " [ 1.          0.64089084]\n",
      " [ 1.          0.67553359]\n",
      " [ 1.          0.71017634]\n",
      " [ 1.          0.74481909]\n",
      " [ 1.          0.77946184]\n",
      " [ 1.          0.81410459]\n",
      " [ 1.          0.84874733]\n",
      " [ 1.          0.88339008]\n",
      " [ 1.          0.91803283]\n",
      " [ 1.          0.95267558]\n",
      " [ 1.          0.98731833]\n",
      " [ 1.          1.02196108]\n",
      " [ 1.          1.05660382]\n",
      " [ 1.          1.09124657]\n",
      " [ 1.          1.12588932]\n",
      " [ 1.          1.16053207]\n",
      " [ 1.          1.19517482]\n",
      " [ 1.          1.22981757]\n",
      " [ 1.          1.26446031]\n",
      " [ 1.          1.29910306]\n",
      " [ 1.          1.33374581]\n",
      " [ 1.          1.36838856]\n",
      " [ 1.          1.40303131]\n",
      " [ 1.          1.43767406]\n",
      " [ 1.          1.4723168 ]\n",
      " [ 1.          1.50695955]\n",
      " [ 1.          1.5416023 ]\n",
      " [ 1.          1.57624505]\n",
      " [ 1.          1.6108878 ]\n",
      " [ 1.          1.64553055]\n",
      " [ 1.          1.68017329]\n",
      " [ 1.          1.71481604]]\n",
      "Epoch 5 RMSE 0.40\n",
      "Epoch 10 RMSE 0.40\n",
      "Epoch 15 RMSE 0.40\n",
      "Epoch 20 RMSE 0.40\n",
      "Epoch 25 RMSE 0.40\n",
      "Epoch 30 RMSE 0.40\n",
      "Epoch 35 RMSE 0.40\n",
      "Epoch 40 RMSE 0.40\n",
      "Epoch 45 RMSE 0.40\n",
      "Epoch 50 RMSE 0.40\n"
     ]
    },
    {
     "data": {
      "text/plain": [
       "{'w': array([[-0.00576098],\n",
       "        [ 1.05433338]]),\n",
       " 'Xmeans': array([49.5]),\n",
       " 'Xstds': array([28.86607005]),\n",
       " 'Tmeans': array([19.5175]),\n",
       " 'Tstds': array([9.29491938])}"
      ]
     },
     "execution_count": 9,
     "metadata": {},
     "output_type": "execute_result"
    }
   ],
   "source": [
    "model = train(X, T, 0.01, 50, verbose=True)\n",
    "model"
   ]
  },
  {
   "cell_type": "code",
   "execution_count": 10,
   "metadata": {},
   "outputs": [
    {
     "data": {
      "text/plain": [
       "<matplotlib.legend.Legend at 0x7f85cf1f2be0>"
      ]
     },
     "execution_count": 10,
     "metadata": {},
     "output_type": "execute_result"
    },
    {
     "data": {
      "image/png": "[encoded data removed]",
      "text/plain": [
       "<Figure size 432x288 with 1 Axes>"
      ]
     },
     "metadata": {
      "needs_background": "light"
     },
     "output_type": "display_data"
    }
   ],
   "source": [
    "Y = use(X, model)\n",
    "plt.plot(T, '.', label='T')\n",
    "plt.plot(Y, '.', label='Y')\n",
    "plt.legend()"
   ]
  },
  {
   "cell_type": "code",
   "execution_count": 11,
   "metadata": {},
   "outputs": [
    {
     "data": {
      "text/plain": [
       "[<matplotlib.lines.Line2D at 0x7f85cf17bf40>]"
      ]
     },
     "execution_count": 11,
     "metadata": {},
     "output_type": "execute_result"
    },
    {
     "data": {
      "image/png": "[encoded data removed]",
      "text/plain": [
       "<Figure size 432x288 with 1 Axes>"
      ]
     },
     "metadata": {
      "needs_background": "light"
     },
     "output_type": "display_data"
    }
   ],
   "source": [
    "plt.plot(Y[:, 0], T[:, 0], 'o')\n",
    "plt.xlabel('Predicted')\n",
    "plt.ylabel('Actual')\n",
    "a = max(min(Y[:, 0]), min(T[:, 0]))\n",
    "b = min(max(Y[:, 0]), max(T[:, 0]))\n",
    "plt.plot([a, b], [a, b], 'r', linewidth=3)"
   ]
  },
  {
   "cell_type": "markdown",
   "metadata": {},
   "source": [
    "## Weather Data"
   ]
  },
  {
   "cell_type": "markdown",
   "metadata": {},
   "source": [
    "Now that your functions are working, we can apply them to some real data. We will use data\n",
    "from  [CSU's CoAgMet Station Daily Data Access](http://coagmet.colostate.edu/cgi-bin/dailydata_form.pl).\n",
    "\n",
    "You can get the data file [here](http://www.cs.colostate.edu/~cs445/notebooks/A1_data.txt)"
   ]
  },
  {
   "cell_type": "markdown",
   "metadata": {},
   "source": [
    "## 5 points:\n",
    "\n",
    "Read in the data into variable `df` using `pandas.read_csv` like we did in lecture notes.\n",
    "Missing values in this dataset are indicated by the string `'***'`."
   ]
  },
  {
   "cell_type": "code",
   "execution_count": 28,
   "metadata": {},
   "outputs": [
    {
     "data": {
      "text/html": [
       "<div>\n",
       "<style scoped>\n",
       "    .dataframe tbody tr th:only-of-type {\n",
       "        vertical-align: middle;\n",
       "    }\n",
       "\n",
       "    .dataframe tbody tr th {\n",
       "        vertical-align: top;\n",
       "    }\n",
       "\n",
       "    .dataframe thead th {\n",
       "        text-align: right;\n",
       "    }\n",
       "</style>\n",
       "<table border=\"1\" class=\"dataframe\">\n",
       "  <thead>\n",
       "    <tr style=\"text-align: right;\">\n",
       "      <th></th>\n",
       "      <th>Year</th>\n",
       "      <th>Mo</th>\n",
       "      <th>Dy</th>\n",
       "      <th>tave</th>\n",
       "      <th>tmax</th>\n",
       "      <th>mxtm</th>\n",
       "      <th>tmin</th>\n",
       "      <th>mntm</th>\n",
       "      <th>vp</th>\n",
       "      <th>rhmax</th>\n",
       "      <th>...</th>\n",
       "      <th>st15mx</th>\n",
       "      <th>st15mxtm</th>\n",
       "      <th>st15mn</th>\n",
       "      <th>st15mntm</th>\n",
       "      <th>volts</th>\n",
       "      <th>year</th>\n",
       "      <th>gust</th>\n",
       "      <th>gusttm</th>\n",
       "      <th>gusdir</th>\n",
       "      <th>etr_asce</th>\n",
       "    </tr>\n",
       "  </thead>\n",
       "  <tbody>\n",
       "    <tr>\n",
       "      <th>0</th>\n",
       "      <td>2019</td>\n",
       "      <td>1</td>\n",
       "      <td>1</td>\n",
       "      <td>-13.535</td>\n",
       "      <td>-10.073</td>\n",
       "      <td>14:10</td>\n",
       "      <td>-16.997</td>\n",
       "      <td>23:50</td>\n",
       "      <td>0.153</td>\n",
       "      <td>0.830</td>\n",
       "      <td>...</td>\n",
       "      <td>-1.803</td>\n",
       "      <td>00:00</td>\n",
       "      <td>-3.195</td>\n",
       "      <td>23:00</td>\n",
       "      <td>NaN</td>\n",
       "      <td>2019.0</td>\n",
       "      <td>5.155</td>\n",
       "      <td>08:10</td>\n",
       "      <td>NaN</td>\n",
       "      <td>0.324</td>\n",
       "    </tr>\n",
       "    <tr>\n",
       "      <th>1</th>\n",
       "      <td>2019</td>\n",
       "      <td>1</td>\n",
       "      <td>2</td>\n",
       "      <td>-5.791</td>\n",
       "      <td>6.010</td>\n",
       "      <td>14:50</td>\n",
       "      <td>-17.591</td>\n",
       "      <td>04:00</td>\n",
       "      <td>0.209</td>\n",
       "      <td>0.839</td>\n",
       "      <td>...</td>\n",
       "      <td>-2.941</td>\n",
       "      <td>19:00</td>\n",
       "      <td>-4.802</td>\n",
       "      <td>11:00</td>\n",
       "      <td>NaN</td>\n",
       "      <td>2019.0</td>\n",
       "      <td>4.332</td>\n",
       "      <td>11:50</td>\n",
       "      <td>NaN</td>\n",
       "      <td>0.521</td>\n",
       "    </tr>\n",
       "    <tr>\n",
       "      <th>2</th>\n",
       "      <td>2019</td>\n",
       "      <td>1</td>\n",
       "      <td>3</td>\n",
       "      <td>1.374</td>\n",
       "      <td>13.444</td>\n",
       "      <td>13:50</td>\n",
       "      <td>-10.696</td>\n",
       "      <td>05:00</td>\n",
       "      <td>0.340</td>\n",
       "      <td>0.836</td>\n",
       "      <td>...</td>\n",
       "      <td>-1.979</td>\n",
       "      <td>22:00</td>\n",
       "      <td>-4.639</td>\n",
       "      <td>10:00</td>\n",
       "      <td>NaN</td>\n",
       "      <td>2019.0</td>\n",
       "      <td>4.096</td>\n",
       "      <td>15:40</td>\n",
       "      <td>NaN</td>\n",
       "      <td>0.729</td>\n",
       "    </tr>\n",
       "    <tr>\n",
       "      <th>3</th>\n",
       "      <td>2019</td>\n",
       "      <td>1</td>\n",
       "      <td>4</td>\n",
       "      <td>4.544</td>\n",
       "      <td>15.089</td>\n",
       "      <td>14:40</td>\n",
       "      <td>-6.000</td>\n",
       "      <td>06:00</td>\n",
       "      <td>0.429</td>\n",
       "      <td>0.815</td>\n",
       "      <td>...</td>\n",
       "      <td>-0.963</td>\n",
       "      <td>23:00</td>\n",
       "      <td>-2.768</td>\n",
       "      <td>10:00</td>\n",
       "      <td>NaN</td>\n",
       "      <td>2019.0</td>\n",
       "      <td>4.096</td>\n",
       "      <td>12:30</td>\n",
       "      <td>NaN</td>\n",
       "      <td>0.893</td>\n",
       "    </tr>\n",
       "    <tr>\n",
       "      <th>4</th>\n",
       "      <td>2019</td>\n",
       "      <td>1</td>\n",
       "      <td>5</td>\n",
       "      <td>4.465</td>\n",
       "      <td>14.441</td>\n",
       "      <td>12:50</td>\n",
       "      <td>-5.510</td>\n",
       "      <td>06:40</td>\n",
       "      <td>0.399</td>\n",
       "      <td>0.769</td>\n",
       "      <td>...</td>\n",
       "      <td>-0.350</td>\n",
       "      <td>23:00</td>\n",
       "      <td>-1.401</td>\n",
       "      <td>11:00</td>\n",
       "      <td>NaN</td>\n",
       "      <td>2019.0</td>\n",
       "      <td>4.077</td>\n",
       "      <td>12:20</td>\n",
       "      <td>NaN</td>\n",
       "      <td>0.867</td>\n",
       "    </tr>\n",
       "    <tr>\n",
       "      <th>...</th>\n",
       "      <td>...</td>\n",
       "      <td>...</td>\n",
       "      <td>...</td>\n",
       "      <td>...</td>\n",
       "      <td>...</td>\n",
       "      <td>...</td>\n",
       "      <td>...</td>\n",
       "      <td>...</td>\n",
       "      <td>...</td>\n",
       "      <td>...</td>\n",
       "      <td>...</td>\n",
       "      <td>...</td>\n",
       "      <td>...</td>\n",
       "      <td>...</td>\n",
       "      <td>...</td>\n",
       "      <td>...</td>\n",
       "      <td>...</td>\n",
       "      <td>...</td>\n",
       "      <td>...</td>\n",
       "      <td>...</td>\n",
       "      <td>...</td>\n",
       "    </tr>\n",
       "    <tr>\n",
       "      <th>360</th>\n",
       "      <td>2019</td>\n",
       "      <td>12</td>\n",
       "      <td>27</td>\n",
       "      <td>-1.493</td>\n",
       "      <td>2.260</td>\n",
       "      <td>14:40</td>\n",
       "      <td>-5.245</td>\n",
       "      <td>07:30</td>\n",
       "      <td>0.403</td>\n",
       "      <td>0.908</td>\n",
       "      <td>...</td>\n",
       "      <td>0.308</td>\n",
       "      <td>06:00</td>\n",
       "      <td>0.257</td>\n",
       "      <td>14:00</td>\n",
       "      <td>NaN</td>\n",
       "      <td>2019.0</td>\n",
       "      <td>4.469</td>\n",
       "      <td>16:00</td>\n",
       "      <td>NaN</td>\n",
       "      <td>0.473</td>\n",
       "    </tr>\n",
       "    <tr>\n",
       "      <th>361</th>\n",
       "      <td>2019</td>\n",
       "      <td>12</td>\n",
       "      <td>28</td>\n",
       "      <td>-2.695</td>\n",
       "      <td>-1.102</td>\n",
       "      <td>01:50</td>\n",
       "      <td>-4.288</td>\n",
       "      <td>07:00</td>\n",
       "      <td>0.363</td>\n",
       "      <td>0.973</td>\n",
       "      <td>...</td>\n",
       "      <td>0.298</td>\n",
       "      <td>20:00</td>\n",
       "      <td>0.264</td>\n",
       "      <td>10:00</td>\n",
       "      <td>NaN</td>\n",
       "      <td>2019.0</td>\n",
       "      <td>10.623</td>\n",
       "      <td>12:20</td>\n",
       "      <td>NaN</td>\n",
       "      <td>0.681</td>\n",
       "    </tr>\n",
       "    <tr>\n",
       "      <th>362</th>\n",
       "      <td>2019</td>\n",
       "      <td>12</td>\n",
       "      <td>29</td>\n",
       "      <td>-3.731</td>\n",
       "      <td>1.871</td>\n",
       "      <td>13:30</td>\n",
       "      <td>-9.333</td>\n",
       "      <td>22:40</td>\n",
       "      <td>0.221</td>\n",
       "      <td>0.690</td>\n",
       "      <td>...</td>\n",
       "      <td>0.288</td>\n",
       "      <td>00:00</td>\n",
       "      <td>0.219</td>\n",
       "      <td>23:00</td>\n",
       "      <td>NaN</td>\n",
       "      <td>2019.0</td>\n",
       "      <td>11.486</td>\n",
       "      <td>07:10</td>\n",
       "      <td>NaN</td>\n",
       "      <td>1.039</td>\n",
       "    </tr>\n",
       "    <tr>\n",
       "      <th>363</th>\n",
       "      <td>2019</td>\n",
       "      <td>12</td>\n",
       "      <td>30</td>\n",
       "      <td>-5.427</td>\n",
       "      <td>1.293</td>\n",
       "      <td>13:40</td>\n",
       "      <td>-12.147</td>\n",
       "      <td>06:20</td>\n",
       "      <td>0.226</td>\n",
       "      <td>0.833</td>\n",
       "      <td>...</td>\n",
       "      <td>0.200</td>\n",
       "      <td>00:00</td>\n",
       "      <td>-0.150</td>\n",
       "      <td>23:00</td>\n",
       "      <td>NaN</td>\n",
       "      <td>2019.0</td>\n",
       "      <td>4.586</td>\n",
       "      <td>14:30</td>\n",
       "      <td>NaN</td>\n",
       "      <td>0.504</td>\n",
       "    </tr>\n",
       "    <tr>\n",
       "      <th>364</th>\n",
       "      <td>2019</td>\n",
       "      <td>12</td>\n",
       "      <td>31</td>\n",
       "      <td>-4.175</td>\n",
       "      <td>4.810</td>\n",
       "      <td>13:10</td>\n",
       "      <td>-13.160</td>\n",
       "      <td>06:50</td>\n",
       "      <td>0.247</td>\n",
       "      <td>0.862</td>\n",
       "      <td>...</td>\n",
       "      <td>-0.174</td>\n",
       "      <td>00:00</td>\n",
       "      <td>-0.917</td>\n",
       "      <td>13:00</td>\n",
       "      <td>NaN</td>\n",
       "      <td>2019.0</td>\n",
       "      <td>5.566</td>\n",
       "      <td>18:40</td>\n",
       "      <td>NaN</td>\n",
       "      <td>0.503</td>\n",
       "    </tr>\n",
       "  </tbody>\n",
       "</table>\n",
       "<p>365 rows × 30 columns</p>\n",
       "</div>"
      ],
      "text/plain": [
       "     Year  Mo  Dy    tave    tmax   mxtm    tmin   mntm     vp  rhmax  ...  \\\n",
       "0    2019   1   1 -13.535 -10.073  14:10 -16.997  23:50  0.153  0.830  ...   \n",
       "1    2019   1   2  -5.791   6.010  14:50 -17.591  04:00  0.209  0.839  ...   \n",
       "2    2019   1   3   1.374  13.444  13:50 -10.696  05:00  0.340  0.836  ...   \n",
       "3    2019   1   4   4.544  15.089  14:40  -6.000  06:00  0.429  0.815  ...   \n",
       "4    2019   1   5   4.465  14.441  12:50  -5.510  06:40  0.399  0.769  ...   \n",
       "..    ...  ..  ..     ...     ...    ...     ...    ...    ...    ...  ...   \n",
       "360  2019  12  27  -1.493   2.260  14:40  -5.245  07:30  0.403  0.908  ...   \n",
       "361  2019  12  28  -2.695  -1.102  01:50  -4.288  07:00  0.363  0.973  ...   \n",
       "362  2019  12  29  -3.731   1.871  13:30  -9.333  22:40  0.221  0.690  ...   \n",
       "363  2019  12  30  -5.427   1.293  13:40 -12.147  06:20  0.226  0.833  ...   \n",
       "364  2019  12  31  -4.175   4.810  13:10 -13.160  06:50  0.247  0.862  ...   \n",
       "\n",
       "    st15mx  st15mxtm st15mn  st15mntm  volts    year    gust gusttm  gusdir  \\\n",
       "0   -1.803     00:00 -3.195     23:00    NaN  2019.0   5.155  08:10     NaN   \n",
       "1   -2.941     19:00 -4.802     11:00    NaN  2019.0   4.332  11:50     NaN   \n",
       "2   -1.979     22:00 -4.639     10:00    NaN  2019.0   4.096  15:40     NaN   \n",
       "3   -0.963     23:00 -2.768     10:00    NaN  2019.0   4.096  12:30     NaN   \n",
       "4   -0.350     23:00 -1.401     11:00    NaN  2019.0   4.077  12:20     NaN   \n",
       "..     ...       ...    ...       ...    ...     ...     ...    ...     ...   \n",
       "360  0.308     06:00  0.257     14:00    NaN  2019.0   4.469  16:00     NaN   \n",
       "361  0.298     20:00  0.264     10:00    NaN  2019.0  10.623  12:20     NaN   \n",
       "362  0.288     00:00  0.219     23:00    NaN  2019.0  11.486  07:10     NaN   \n",
       "363  0.200     00:00 -0.150     23:00    NaN  2019.0   4.586  14:30     NaN   \n",
       "364 -0.174     00:00 -0.917     13:00    NaN  2019.0   5.566  18:40     NaN   \n",
       "\n",
       "    etr_asce  \n",
       "0      0.324  \n",
       "1      0.521  \n",
       "2      0.729  \n",
       "3      0.893  \n",
       "4      0.867  \n",
       "..       ...  \n",
       "360    0.473  \n",
       "361    0.681  \n",
       "362    1.039  \n",
       "363    0.504  \n",
       "364    0.503  \n",
       "\n",
       "[365 rows x 30 columns]"
      ]
     },
     "execution_count": 28,
     "metadata": {},
     "output_type": "execute_result"
    }
   ],
   "source": [
    "url = 'https://www.cs.colostate.edu/~cs445/notebooks/A1_data.txt'\n",
    "df = pd.read_csv(url, delim_whitespace=True, na_values='***')\n",
    "df"
   ]
  },
  {
   "cell_type": "markdown",
   "metadata": {},
   "source": [
    "## 5 points:\n",
    "\n",
    "Check for missing values by showing the number of NA values, as shown in lecture notes."
   ]
  },
  {
   "cell_type": "code",
   "execution_count": 29,
   "metadata": {},
   "outputs": [
    {
     "data": {
      "text/plain": [
       "Year          0\n",
       "Mo            0\n",
       "Dy            0\n",
       "tave          0\n",
       "tmax          0\n",
       "mxtm          0\n",
       "tmin          0\n",
       "mntm          0\n",
       "vp            0\n",
       "rhmax         0\n",
       "rhmxtm        0\n",
       "rhmin         0\n",
       "rhmntm        0\n",
       "sr            0\n",
       "wrun          0\n",
       "pp            0\n",
       "st5mx       211\n",
       "st5mxtm     211\n",
       "st5mn       211\n",
       "st5mntm     211\n",
       "st15mx        0\n",
       "st15mxtm      0\n",
       "st15mn        0\n",
       "st15mntm      0\n",
       "volts       365\n",
       "year          0\n",
       "gust          0\n",
       "gusttm        0\n",
       "gusdir      365\n",
       "etr_asce      0\n",
       "dtype: int64"
      ]
     },
     "execution_count": 29,
     "metadata": {},
     "output_type": "execute_result"
    }
   ],
   "source": [
    "df.isna().sum()"
   ]
  },
  {
   "cell_type": "markdown",
   "metadata": {},
   "source": [
    "## 5 points:\n",
    "\n",
    "If there are missing values, remove either samples or features that contain missing values. Prove that you\n",
    "were successful by counting the number of missing values now, which should be zero."
   ]
  },
  {
   "cell_type": "code",
   "execution_count": 30,
   "metadata": {},
   "outputs": [
    {
     "data": {
      "text/plain": [
       "Year        0\n",
       "Mo          0\n",
       "Dy          0\n",
       "tave        0\n",
       "tmax        0\n",
       "mxtm        0\n",
       "tmin        0\n",
       "mntm        0\n",
       "vp          0\n",
       "rhmax       0\n",
       "rhmxtm      0\n",
       "rhmin       0\n",
       "rhmntm      0\n",
       "sr          0\n",
       "wrun        0\n",
       "pp          0\n",
       "st15mx      0\n",
       "st15mxtm    0\n",
       "st15mn      0\n",
       "st15mntm    0\n",
       "year        0\n",
       "gust        0\n",
       "gusttm      0\n",
       "etr_asce    0\n",
       "dtype: int64"
      ]
     },
     "execution_count": 30,
     "metadata": {},
     "output_type": "execute_result"
    }
   ],
   "source": [
    "df = df.dropna(axis=1) # Remove features (columns) that have missing data\n",
    "df.isna().sum()"
   ]
  },
  {
   "cell_type": "markdown",
   "metadata": {},
   "source": [
    "Your job is now to create a linear model that predicts the next day's average temperature (tave) from the previous day's values. A discription of all features can be found [here](https://coagmet.colostate.edu/rawdata_docs.php). To start, consider just focusing on these features: \n",
    "1. tave: average temperature\n",
    "2. tmax: maximum temperature\n",
    "3. tmin: minimum temperature\n",
    "4. vp: vapor pressure\n",
    "5. rhmax: maximum relative humidity\n",
    "6. rhmin: minimum relative humidity\n",
    "7. pp: precipitation\n",
    "8. gust: wind gust speed\n",
    "\n",
    "First, modify the datafile to add a new column: 'next tave' -- here's a hint on your X and T vectors names:"
   ]
  },
  {
   "cell_type": "code",
   "execution_count": 31,
   "metadata": {},
   "outputs": [],
   "source": [
    "Xnames = ['tave', 'tmax', 'tmin', 'vp', 'rhmax', 'rhmin', 'pp', 'gust']\n",
    "Tnames = ['next tave']"
   ]
  },
  {
   "cell_type": "markdown",
   "metadata": {},
   "source": [
    "__Note:__ I accomplished the desired result without adding the new column to the dataframe in the previous step. I did the manipulation in numpy instead."
   ]
  },
  {
   "cell_type": "markdown",
   "metadata": {},
   "source": [
    "## 5 points:\n",
    "\n",
    "Now select those eight columns from `df` and convert the result to a `numpy` array.  (Easier than it sounds.)\n",
    "Then assign `X` to be all columns and all but the last row.  Assign `T` to be just the first column (tave) and all but the first sample.  So now the first row (sample) in `X` is associated with the first row (sample) in `T` which tave for the following day."
   ]
  },
  {
   "cell_type": "code",
   "execution_count": 32,
   "metadata": {
    "scrolled": true
   },
   "outputs": [
    {
     "name": "stdout",
     "output_type": "stream",
     "text": [
      "[[-13.535 -10.073 -16.997 ...   0.595   0.      5.155]\n",
      " [ -5.791   6.01  -17.591 ...   0.216   0.508   4.332]\n",
      " [  1.374  13.444 -10.696 ...   0.175   0.      4.096]\n",
      " ...\n",
      " [ -2.695  -1.102  -4.288 ...   0.477   0.     10.623]\n",
      " [ -3.731   1.871  -9.333 ...   0.267   4.064  11.486]\n",
      " [ -5.427   1.293 -12.147 ...   0.278   0.508   4.586]]\n",
      "[[ -5.791]\n",
      " [  1.374]\n",
      " [  4.544]\n",
      " [  4.465]\n",
      " [  6.484]\n",
      " [  3.951]\n",
      " [  0.073]\n",
      " [ -1.611]\n",
      " [  6.022]\n",
      " [  3.194]\n",
      " [  1.587]\n",
      " [ -0.441]\n",
      " [  0.164]\n",
      " [  1.711]\n",
      " [  4.581]\n",
      " [  3.755]\n",
      " [  1.748]\n",
      " [  0.794]\n",
      " [  3.699]\n",
      " [  1.509]\n",
      " [ -2.389]\n",
      " [ -2.238]\n",
      " [ -4.389]\n",
      " [ -4.567]\n",
      " [  0.199]\n",
      " [  5.772]\n",
      " [ -2.951]\n",
      " [ -5.122]\n",
      " [ -3.679]\n",
      " [  1.366]\n",
      " [  3.617]\n",
      " [  4.365]\n",
      " [  8.895]\n",
      " [  1.934]\n",
      " [ -0.69 ]\n",
      " [ -9.659]\n",
      " [-15.989]\n",
      " [ -9.802]\n",
      " [ -5.18 ]\n",
      " [ -4.825]\n",
      " [ -3.589]\n",
      " [  2.783]\n",
      " [  6.673]\n",
      " [  5.976]\n",
      " [  2.393]\n",
      " [ -0.857]\n",
      " [ -4.927]\n",
      " [-11.115]\n",
      " [ -8.522]\n",
      " [ -5.496]\n",
      " [ -4.461]\n",
      " [ -5.376]\n",
      " [ -0.835]\n",
      " [  2.057]\n",
      " [  0.91 ]\n",
      " [  0.546]\n",
      " [ -5.434]\n",
      " [  0.958]\n",
      " [  3.836]\n",
      " [ -9.381]\n",
      " [-17.259]\n",
      " [-14.075]\n",
      " [ -9.756]\n",
      " [ -0.159]\n",
      " [  0.28 ]\n",
      " [  1.555]\n",
      " [  5.548]\n",
      " [  2.875]\n",
      " [  3.626]\n",
      " [  7.334]\n",
      " [  2.158]\n",
      " [ -1.047]\n",
      " [ -0.942]\n",
      " [  1.528]\n",
      " [  4.437]\n",
      " [  3.946]\n",
      " [  3.991]\n",
      " [  4.995]\n",
      " [  6.753]\n",
      " [  8.284]\n",
      " [  5.628]\n",
      " [  5.952]\n",
      " [  9.615]\n",
      " [  9.51 ]\n",
      " [ 12.244]\n",
      " [  9.424]\n",
      " [  2.402]\n",
      " [  1.393]\n",
      " [  3.309]\n",
      " [  5.954]\n",
      " [  7.191]\n",
      " [ 10.169]\n",
      " [ 10.094]\n",
      " [ 13.743]\n",
      " [ 12.372]\n",
      " [ 12.309]\n",
      " [ 15.33 ]\n",
      " [ 15.449]\n",
      " [  3.699]\n",
      " [ -0.4  ]\n",
      " [  0.782]\n",
      " [  3.315]\n",
      " [  8.52 ]\n",
      " [ 11.6  ]\n",
      " [ 10.6  ]\n",
      " [ 12.037]\n",
      " [ 11.451]\n",
      " [ 12.991]\n",
      " [ 16.126]\n",
      " [ 14.06 ]\n",
      " [  7.064]\n",
      " [ 13.259]\n",
      " [ 13.686]\n",
      " [ 13.524]\n",
      " [ 14.618]\n",
      " [ 11.846]\n",
      " [ 13.838]\n",
      " [  2.053]\n",
      " [  0.962]\n",
      " [  5.752]\n",
      " [  7.898]\n",
      " [ 10.629]\n",
      " [ 13.433]\n",
      " [ 15.598]\n",
      " [ 13.808]\n",
      " [  8.052]\n",
      " [  5.587]\n",
      " [  2.934]\n",
      " [  7.615]\n",
      " [  9.104]\n",
      " [ 13.366]\n",
      " [ 16.434]\n",
      " [ 17.219]\n",
      " [ 17.453]\n",
      " [ 18.84 ]\n",
      " [ 13.831]\n",
      " [ 10.457]\n",
      " [  6.479]\n",
      " [  2.686]\n",
      " [  3.922]\n",
      " [  6.614]\n",
      " [  5.209]\n",
      " [ 12.437]\n",
      " [ 13.189]\n",
      " [ 17.438]\n",
      " [ 13.971]\n",
      " [  9.855]\n",
      " [ 11.051]\n",
      " [ 12.587]\n",
      " [ 15.364]\n",
      " [ 15.911]\n",
      " [ 17.6  ]\n",
      " [ 17.848]\n",
      " [ 18.24 ]\n",
      " [ 17.777]\n",
      " [ 18.845]\n",
      " [ 20.925]\n",
      " [ 18.39 ]\n",
      " [ 13.504]\n",
      " [ 15.443]\n",
      " [ 17.137]\n",
      " [ 17.654]\n",
      " [ 19.823]\n",
      " [ 21.344]\n",
      " [ 18.736]\n",
      " [ 17.691]\n",
      " [ 17.648]\n",
      " [ 14.909]\n",
      " [ 19.698]\n",
      " [ 19.215]\n",
      " [ 12.516]\n",
      " [ 12.052]\n",
      " [ 13.21 ]\n",
      " [ 17.322]\n",
      " [ 20.203]\n",
      " [ 21.258]\n",
      " [ 22.239]\n",
      " [ 23.866]\n",
      " [ 26.975]\n",
      " [ 24.651]\n",
      " [ 22.77 ]\n",
      " [ 22.014]\n",
      " [ 23.874]\n",
      " [ 21.633]\n",
      " [ 20.368]\n",
      " [ 20.122]\n",
      " [ 22.491]\n",
      " [ 21.703]\n",
      " [ 22.384]\n",
      " [ 21.311]\n",
      " [ 24.762]\n",
      " [ 23.957]\n",
      " [ 23.364]\n",
      " [ 25.183]\n",
      " [ 23.936]\n",
      " [ 23.733]\n",
      " [ 24.523]\n",
      " [ 25.733]\n",
      " [ 25.462]\n",
      " [ 23.42 ]\n",
      " [ 21.137]\n",
      " [ 22.314]\n",
      " [ 23.186]\n",
      " [ 24.413]\n",
      " [ 23.919]\n",
      " [ 22.739]\n",
      " [ 23.808]\n",
      " [ 24.904]\n",
      " [ 23.916]\n",
      " [ 24.473]\n",
      " [ 24.417]\n",
      " [ 22.413]\n",
      " [ 24.611]\n",
      " [ 24.785]\n",
      " [ 25.057]\n",
      " [ 24.941]\n",
      " [ 25.338]\n",
      " [ 22.905]\n",
      " [ 23.393]\n",
      " [ 25.459]\n",
      " [ 23.102]\n",
      " [ 21.836]\n",
      " [ 22.714]\n",
      " [ 21.349]\n",
      " [ 22.896]\n",
      " [ 23.367]\n",
      " [ 21.311]\n",
      " [ 21.729]\n",
      " [ 21.435]\n",
      " [ 24.403]\n",
      " [ 26.491]\n",
      " [ 22.667]\n",
      " [ 23.647]\n",
      " [ 22.986]\n",
      " [ 22.84 ]\n",
      " [ 24.845]\n",
      " [ 20.021]\n",
      " [ 18.477]\n",
      " [ 21.389]\n",
      " [ 22.209]\n",
      " [ 21.284]\n",
      " [ 23.1  ]\n",
      " [ 24.936]\n",
      " [ 26.067]\n",
      " [ 21.023]\n",
      " [ 22.515]\n",
      " [ 25.131]\n",
      " [ 21.701]\n",
      " [ 23.659]\n",
      " [ 16.851]\n",
      " [ 20.121]\n",
      " [ 20.359]\n",
      " [ 18.117]\n",
      " [ 17.389]\n",
      " [ 16.231]\n",
      " [ 19.058]\n",
      " [ 19.799]\n",
      " [ 23.127]\n",
      " [ 22.181]\n",
      " [ 18.735]\n",
      " [ 18.865]\n",
      " [ 20.66 ]\n",
      " [ 16.279]\n",
      " [ 13.746]\n",
      " [ 16.429]\n",
      " [ 18.454]\n",
      " [ 16.31 ]\n",
      " [ 16.157]\n",
      " [ 15.796]\n",
      " [ 15.372]\n",
      " [ 19.619]\n",
      " [ 14.761]\n",
      " [  8.635]\n",
      " [  9.73 ]\n",
      " [ 10.894]\n",
      " [ 13.02 ]\n",
      " [ 13.747]\n",
      " [  9.554]\n",
      " [ 10.464]\n",
      " [ 13.3  ]\n",
      " [ 12.308]\n",
      " [ -1.673]\n",
      " [  1.423]\n",
      " [  6.274]\n",
      " [  9.82 ]\n",
      " [ 11.73 ]\n",
      " [  8.552]\n",
      " [ 12.152]\n",
      " [ 12.792]\n",
      " [ 12.393]\n",
      " [  9.497]\n",
      " [  7.065]\n",
      " [  7.504]\n",
      " [  9.526]\n",
      " [  7.613]\n",
      " [  2.265]\n",
      " [  6.845]\n",
      " [ 10.758]\n",
      " [ -4.739]\n",
      " [ -5.022]\n",
      " [ -8.807]\n",
      " [ -8.924]\n",
      " [ -2.865]\n",
      " [  0.229]\n",
      " [  1.698]\n",
      " [  5.141]\n",
      " [  4.19 ]\n",
      " [  5.219]\n",
      " [  4.235]\n",
      " [  2.372]\n",
      " [  7.648]\n",
      " [ 10.911]\n",
      " [  5.47 ]\n",
      " [ -7.825]\n",
      " [ -0.043]\n",
      " [  8.319]\n",
      " [  5.547]\n",
      " [  7.779]\n",
      " [ 10.66 ]\n",
      " [  4.43 ]\n",
      " [ 11.554]\n",
      " [  7.153]\n",
      " [  4.67 ]\n",
      " [ -1.739]\n",
      " [ -1.255]\n",
      " [  4.217]\n",
      " [  5.667]\n",
      " [  3.452]\n",
      " [ -8.343]\n",
      " [-10.873]\n",
      " [ -5.517]\n",
      " [ -3.236]\n",
      " [ -1.06 ]\n",
      " [ -5.94 ]\n",
      " [  0.889]\n",
      " [  5.218]\n",
      " [  2.47 ]\n",
      " [  2.082]\n",
      " [  1.805]\n",
      " [  3.531]\n",
      " [  4.837]\n",
      " [  0.249]\n",
      " [ -2.283]\n",
      " [ -1.104]\n",
      " [  2.316]\n",
      " [  3.39 ]\n",
      " [ -3.137]\n",
      " [ -5.13 ]\n",
      " [ -4.894]\n",
      " [ -5.347]\n",
      " [ -0.846]\n",
      " [  0.338]\n",
      " [  0.552]\n",
      " [  4.018]\n",
      " [  2.506]\n",
      " [  5.234]\n",
      " [  6.829]\n",
      " [  2.781]\n",
      " [  0.223]\n",
      " [ -1.493]\n",
      " [ -2.695]\n",
      " [ -3.731]\n",
      " [ -5.427]\n",
      " [ -4.175]]\n"
     ]
    }
   ],
   "source": [
    "data = df[Xnames].to_numpy()\n",
    "# print(sample_data)\n",
    "X = data[:-1,:]\n",
    "T = data[1:,0:1]\n",
    "print(X)\n",
    "print(T)"
   ]
  },
  {
   "cell_type": "markdown",
   "metadata": {},
   "source": [
    "## 15 points:\n",
    "\n",
    "Use the function `train` to train a model for the `X`\n",
    "and `T` data.  Run it several times with different `learning_rate`\n",
    "and `n_epochs` values to produce decreasing errors. Use the `use`\n",
    "function and plots of `T` versus predicted `Y` values to show how\n",
    "well the model is working.  Type your observations of the plot and of the value of `rmse` to discuss how well the model succeeds."
   ]
  },
  {
   "cell_type": "code",
   "execution_count": 17,
   "metadata": {},
   "outputs": [
    {
     "name": "stdout",
     "output_type": "stream",
     "text": [
      "[[ 1.         -2.30977959 -2.40140327 ...  1.64431818 -0.38283902\n",
      "  -0.91825355]\n",
      " [ 1.         -1.5390116  -0.97095837 ... -0.57732951 -0.21320615\n",
      "  -1.20520312]\n",
      " [ 1.         -0.82587206 -0.30976783 ... -0.81766607 -0.38283902\n",
      "  -1.28748756]\n",
      " ...\n",
      " [ 1.         -1.23086366 -1.60350977 ...  0.95261785 -0.38283902\n",
      "   0.98823518]\n",
      " [ 1.         -1.33397776 -1.33908692 ... -0.27837428  0.97422395\n",
      "   1.28913126]\n",
      " [ 1.         -1.50278232 -1.39049506 ... -0.21389374 -0.21320615\n",
      "  -1.11664274]]\n",
      "Epoch 5 RMSE 0.34\n",
      "Epoch 10 RMSE 0.33\n",
      "Epoch 15 RMSE 0.33\n",
      "Epoch 20 RMSE 0.33\n",
      "Epoch 25 RMSE 0.33\n",
      "Epoch 30 RMSE 0.33\n",
      "Epoch 35 RMSE 0.33\n",
      "Epoch 40 RMSE 0.33\n",
      "Epoch 45 RMSE 0.33\n",
      "Epoch 50 RMSE 0.33\n"
     ]
    },
    {
     "data": {
      "image/png": "[encoded data removed]",
      "text/plain": [
       "<Figure size 432x288 with 1 Axes>"
      ]
     },
     "metadata": {
      "needs_background": "light"
     },
     "output_type": "display_data"
    }
   ],
   "source": [
    "model = train(X, T, 0.001, 50, True)\n",
    "Y = use(X, model)\n",
    "# print(rmse(Y, T))\n",
    "plt.plot(T, '.', label='T')\n",
    "plt.plot(Y, '.', label='Y')\n",
    "plt.legend();"
   ]
  },
  {
   "cell_type": "markdown",
   "metadata": {},
   "source": [
    "#### Discussion\n",
    "The RMSE of our model converges quickly to 0.33, which is reasonably low. This shows that the data is a good predictor of the next day's temperature. This is also supported by the graph, which shows that the predicted values are very close in value to the actual values."
   ]
  },
  {
   "cell_type": "code",
   "execution_count": 18,
   "metadata": {},
   "outputs": [
    {
     "data": {
      "image/png": "[encoded data removed]",
      "text/plain": [
       "<Figure size 432x288 with 1 Axes>"
      ]
     },
     "metadata": {
      "needs_background": "light"
     },
     "output_type": "display_data"
    }
   ],
   "source": [
    "plt.plot(Y[:, 0], T[:, 0], 'o')\n",
    "plt.xlabel('Predicted')\n",
    "plt.ylabel('Actual')\n",
    "a = max(min(Y[:, 0]), min(T[:, 0]))\n",
    "b = min(max(Y[:, 0]), max(T[:, 0]))\n",
    "plt.plot([a, b], [a, b], 'r', linewidth=3);"
   ]
  },
  {
   "cell_type": "markdown",
   "metadata": {},
   "source": [
    "#### Discussion\n",
    "This graph also shows that the predicted values were very close to the target values. The points are mostly clustered very close to the red line, which shows the closeness in value. Based on the RMSE values and the two graphs, it would seem that the model was reasonably successful."
   ]
  },
  {
   "cell_type": "markdown",
   "metadata": {},
   "source": [
    "## 5 points:\n",
    "\n",
    "Print the weight values in the resulting model along with their corresponding variable names (in `Xnames`). Use the relative magnitude\n",
    "of the weight values to discuss which input variables are most significant in predicting the changes in the tave values."
   ]
  },
  {
   "cell_type": "code",
   "execution_count": 20,
   "metadata": {},
   "outputs": [
    {
     "data": {
      "text/html": [
       "<div>\n",
       "<style scoped>\n",
       "    .dataframe tbody tr th:only-of-type {\n",
       "        vertical-align: middle;\n",
       "    }\n",
       "\n",
       "    .dataframe tbody tr th {\n",
       "        vertical-align: top;\n",
       "    }\n",
       "\n",
       "    .dataframe thead th {\n",
       "        text-align: right;\n",
       "    }\n",
       "</style>\n",
       "<table border=\"1\" class=\"dataframe\">\n",
       "  <thead>\n",
       "    <tr style=\"text-align: right;\">\n",
       "      <th></th>\n",
       "      <th>bias</th>\n",
       "      <th>tave</th>\n",
       "      <th>tmax</th>\n",
       "      <th>tmin</th>\n",
       "      <th>vp</th>\n",
       "      <th>rhmax</th>\n",
       "      <th>rhmin</th>\n",
       "      <th>pp</th>\n",
       "      <th>gust</th>\n",
       "    </tr>\n",
       "  </thead>\n",
       "  <tbody>\n",
       "    <tr>\n",
       "      <th>0</th>\n",
       "      <td>-0.003558</td>\n",
       "      <td>0.247222</td>\n",
       "      <td>0.239278</td>\n",
       "      <td>0.243052</td>\n",
       "      <td>0.234864</td>\n",
       "      <td>-0.028068</td>\n",
       "      <td>-0.04282</td>\n",
       "      <td>0.027239</td>\n",
       "      <td>-0.103043</td>\n",
       "    </tr>\n",
       "  </tbody>\n",
       "</table>\n",
       "</div>"
      ],
      "text/plain": [
       "       bias      tave      tmax      tmin        vp     rhmax    rhmin  \\\n",
       "0 -0.003558  0.247222  0.239278  0.243052  0.234864 -0.028068 -0.04282   \n",
       "\n",
       "         pp      gust  \n",
       "0  0.027239 -0.103043  "
      ]
     },
     "execution_count": 20,
     "metadata": {},
     "output_type": "execute_result"
    }
   ],
   "source": [
    "pd.DataFrame(model['w'].T, columns=['bias', *Xnames])#.sort_values(by=0, axis=1, key=lambda x: x.abs())\n"
   ]
  },
  {
   "cell_type": "markdown",
   "metadata": {},
   "source": [
    "#### Discussion\n",
    "The top most significant input variables are tave, tmin, and tmax. This makes sense because the temperature between two days is generally very close together, so the previous day's temperature should be a good predictor for the next day."
   ]
  },
  {
   "cell_type": "markdown",
   "metadata": {},
   "source": [
    "## Grading and Check-in\n",
    "\n",
    "Your notebook will be partially graded automatically.  You can test this grading process yourself by downloading [A1grader.zip](https://www.cs.colostate.edu/~cs445/notebooks/A1grader.zip) and extract `A1grader.py` parallel to this notebook.  Run the code in the in the following cell to see an example grading run.  If your functions are defined correctly, you should see a score of 60/60.  The remaining 40 points are based on testing other data and your discussion."
   ]
  },
  {
   "cell_type": "code",
   "execution_count": 21,
   "metadata": {},
   "outputs": [
    {
     "name": "stdout",
     "output_type": "stream",
     "text": [
      "\n",
      "======================= Code Execution =======================\n",
      "\n",
      "Extracting python code from notebook named 'A1.1 Linear Regression with SGD.ipynb' and storing in notebookcode.py\n"
     ]
    },
    {
     "name": "stderr",
     "output_type": "stream",
     "text": [
      "[NbConvertApp] Converting notebook A1.1 Linear Regression with SGD.ipynb to script\n"
     ]
    },
    {
     "name": "stdout",
     "output_type": "stream",
     "text": [
      "Removing all statements that are not function or class defs or import statements.\n",
      "\n",
      "Testing\n",
      "  X = np.array([1, 2, 3, 4, 5, 8, 9, 11]).reshape((-1, 1))\n",
      "  T = (X - 5) * 0.05 + 0.002 * (X - 8)**2\n",
      "  model = train(X, T, 0.001, 1000, True)\n",
      "\n",
      "[[ 1.         -1.30527975]\n",
      " [ 1.         -1.00693009]\n",
      " [ 1.         -0.70858043]\n",
      " [ 1.         -0.41023078]\n",
      " [ 1.         -0.11188112]\n",
      " [ 1.          0.78316785]\n",
      " [ 1.          1.0815175 ]\n",
      " [ 1.          1.67821682]]\n",
      "Epoch 100 RMSE 0.46\n",
      "Epoch 200 RMSE 0.24\n",
      "Epoch 300 RMSE 0.15\n",
      "Epoch 400 RMSE 0.13\n",
      "Epoch 500 RMSE 0.13\n",
      "Epoch 600 RMSE 0.12\n",
      "Epoch 700 RMSE 0.12\n",
      "Epoch 800 RMSE 0.12\n",
      "Epoch 900 RMSE 0.12\n",
      "Epoch 1000 RMSE 0.12\n",
      "\n",
      "--- 20/20 points. Returned correct values.\n",
      "\n",
      "--- 10/10 points. Xmeans and Xstds are correct values.\n",
      "\n",
      "--- 10/10 points. Tmeans and Tstds are correct values.\n",
      "\n",
      "Testing\n",
      "  Y = use(X, model)\n",
      "\n",
      "\n",
      "--- 10/10 points. Returned correct values.\n",
      "\n",
      "Testing\n",
      "  err = rmse(Y, T)\n",
      "\n",
      "\n",
      "--- 10/10 points. Returned correct values.\n",
      "\n",
      "======================================================================\n",
      "hw1 Execution Grade is 60 / 60\n",
      "======================================================================\n",
      "\n",
      " __ / 5 Reading in weather.data correctly.\n",
      "\n",
      " __ / 5 Count missing values, to show there are some.\n",
      "\n",
      " __ / 5 Remove samples with missing values. Count to show there are none.\n",
      "\n",
      " __ / 5 Construct X and T matrices as specified.\n",
      "\n",
      " __ / 15 Use your train function on X and T. Show results as RMSE values and as plots\n",
      "       for several different values of learning_rate and n_epochs. Type your \n",
      "       observations of RMSE values and of plots with at least five sentences.\n",
      "\n",
      " __ / 5 Print the weight values with corresponding variable names. Discuss\n",
      "       which input variablesa re most signficant in predicting tave values.\n",
      "\n",
      "======================================================================\n",
      "hw1 FINAL GRADE is  _  / 100\n",
      "======================================================================\n",
      "\n",
      "Extra Credit:\n",
      "Predict the change in tave from one day to the next, instead of the actual tave.\n",
      "Show and discuss RMSE and plotting results for several values of learning_rate\n",
      "and n_epochs.\n",
      "\n",
      "hw1 EXTRA CREDIT is 0 / 1\n"
     ]
    }
   ],
   "source": [
    "%run -i A1grader.py"
   ]
  },
  {
   "cell_type": "markdown",
   "metadata": {},
   "source": [
    "A different but similar grading script will be used to grade yout checked-in notebook.  It will include different tests.\n",
    "\n",
    "You must name your notebook as `Lastname-A1.ipynb` with `Lastname` being your last name, and then save this notebook and check it in at the A1 assignment link in our Canvas web page."
   ]
  },
  {
   "cell_type": "markdown",
   "metadata": {},
   "source": [
    "## Extra Credit: 1 point"
   ]
  },
  {
   "cell_type": "markdown",
   "metadata": {},
   "source": [
    "A typical problem when predicting the next value in a time series is\n",
    "that the best solution may be to predict the previous value.  The\n",
    "predicted value will look a lot like the input tave value shifted on\n",
    "time step later.\n",
    "\n",
    "To do better, try predicting the change in tave from one day to the next. `T` can be assigned as"
   ]
  },
  {
   "cell_type": "code",
   "execution_count": 34,
   "metadata": {},
   "outputs": [],
   "source": [
    "T = data[1:, 0:1] -  data[:-1, 0:1]"
   ]
  },
  {
   "cell_type": "markdown",
   "metadata": {},
   "source": [
    "Now repeat the training experiments to pick good `learning_rate` and\n",
    "`n_epochs`.  Use predicted values to produce next day tave values by\n",
    "adding the predicted values to the previous day's tave.  Use `rmse`\n",
    "to determine if this way of predicting next tave is better than\n",
    "directly predicting tave."
   ]
  },
  {
   "cell_type": "code",
   "execution_count": 35,
   "metadata": {},
   "outputs": [
    {
     "name": "stdout",
     "output_type": "stream",
     "text": [
      "[[ 1.         -2.30977959 -2.40140327 ...  1.64431818 -0.38283902\n",
      "  -0.91825355]\n",
      " [ 1.         -1.5390116  -0.97095837 ... -0.57732951 -0.21320615\n",
      "  -1.20520312]\n",
      " [ 1.         -0.82587206 -0.30976783 ... -0.81766607 -0.38283902\n",
      "  -1.28748756]\n",
      " ...\n",
      " [ 1.         -1.23086366 -1.60350977 ...  0.95261785 -0.38283902\n",
      "   0.98823518]\n",
      " [ 1.         -1.33397776 -1.33908692 ... -0.27837428  0.97422395\n",
      "   1.28913126]\n",
      " [ 1.         -1.50278232 -1.39049506 ... -0.21389374 -0.21320615\n",
      "  -1.11664274]]\n",
      "Epoch 5 RMSE 0.94\n",
      "Epoch 10 RMSE 0.93\n",
      "Epoch 15 RMSE 0.93\n",
      "Epoch 20 RMSE 0.93\n",
      "Epoch 25 RMSE 0.93\n",
      "Epoch 30 RMSE 0.93\n",
      "Epoch 35 RMSE 0.93\n",
      "Epoch 40 RMSE 0.93\n",
      "Epoch 45 RMSE 0.93\n",
      "Epoch 50 RMSE 0.93\n"
     ]
    },
    {
     "data": {
      "image/png": "[encoded data removed]",
      "text/plain": [
       "<Figure size 432x288 with 1 Axes>"
      ]
     },
     "metadata": {
      "needs_background": "light"
     },
     "output_type": "display_data"
    }
   ],
   "source": [
    "model = train(X, T, 0.001, 50, True)\n",
    "Y = use(X, model)\n",
    "plt.plot(T, '.', label='T')\n",
    "plt.plot(Y, '.', label='Y')\n",
    "plt.legend();"
   ]
  },
  {
   "cell_type": "code",
   "execution_count": 36,
   "metadata": {},
   "outputs": [
    {
     "data": {
      "image/png": "[encoded data removed]",
      "text/plain": [
       "<Figure size 432x288 with 1 Axes>"
      ]
     },
     "metadata": {
      "needs_background": "light"
     },
     "output_type": "display_data"
    }
   ],
   "source": [
    "plt.plot(Y[:, 0], T[:, 0], 'o')\n",
    "plt.xlabel('Predicted')\n",
    "plt.ylabel('Actual')\n",
    "a = max(min(Y[:, 0]), min(T[:, 0]))\n",
    "b = min(max(Y[:, 0]), max(T[:, 0]))\n",
    "plt.plot([a, b], [a, b], 'r', linewidth=3);"
   ]
  },
  {
   "cell_type": "code",
   "execution_count": null,
   "metadata": {},
   "outputs": [],
   "source": []
  }
 ],
 "metadata": {
  "jupytext": {
   "formats": "ipynb,py"
  },
  "kernelspec": {
   "display_name": "Python 3 (ipykernel)",
   "language": "python",
   "name": "python3"
  },
  "language_info": {
   "codemirror_mode": {
    "name": "ipython",
    "version": 3
   },
   "file_extension": ".py",
   "mimetype": "text/x-python",
   "name": "python",
   "nbconvert_exporter": "python",
   "pygments_lexer": "ipython3",
   "version": "3.8.10"
  }
 },
 "nbformat": 4,
 "nbformat_minor": 2
}
