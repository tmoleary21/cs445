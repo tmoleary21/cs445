{
 "cells": [
  {
   "cell_type": "markdown",
   "metadata": {},
   "source": [
    "# A5 1-D and 2-D Convolutional Neural Networks in Pytorch\n",
    "\n",
    "* A5.4: *Changed structure of `CNN2D.__init__` by having it call `make_cnn_and_fc_layers` function. It is this function that `CNN1D` must override., not the `__init__` constructor.*\n",
    "* A5.3: *Added two missing statements in `CNN2D` that initialize `layeri` to 0 and increment it by 1*\n",
    "* A5.2: *added an exception to `CNN2D.__init__` code that provides a helpful message if you specify an impossible configuration for convolutional layers.  Repeat this exception code in your `CNN1D.__init__` function.*\n",
    "* A5.1: *small edit in CNN2D to allow empty list for `n_hiddens_per_fc_layer`.*\n",
    "\n",
    "In this assignment, you will experiment with the given convolutional neural network for 2-dimensional input samples (images), in class `CNN2D`, by applying it to the MNIST data.  You will also define a new class for handling 1-dimensional input samples, called `CNN1D`, that extends `CNN2D`."
   ]
  },
  {
   "cell_type": "code",
   "execution_count": 1,
   "metadata": {},
   "outputs": [],
   "source": [
    "import numpy as np\n",
    "import torch\n",
    "import pandas\n",
    "\n",
    "import matplotlib.pyplot as plt"
   ]
  },
  {
   "cell_type": "markdown",
   "metadata": {},
   "source": [
    "## `CNN2D` class"
   ]
  },
  {
   "cell_type": "markdown",
   "metadata": {},
   "source": [
    "Here is a definition of `CNN2D`."
   ]
  },
  {
   "cell_type": "code",
   "execution_count": 2,
   "metadata": {},
   "outputs": [],
   "source": [
    "import numpy as np\n",
    "import torch\n",
    "\n",
    "\n",
    "class CNN2D(torch.nn.Module):\n",
    "\n",
    "    def __init__(self, n_inputs, n_hiddens_per_conv_layer, n_hiddens_per_fc_layer, n_outputs,\n",
    "                 patch_size_per_conv_layer, stride_per_conv_layer, activation_function='tanh', device='cpu'):\n",
    "\n",
    "        super().__init__()\n",
    "\n",
    "        self.device = device\n",
    "\n",
    "        n_conv_layers = len(n_hiddens_per_conv_layer)\n",
    "        if (len(patch_size_per_conv_layer) != n_conv_layers\n",
    "            or len(stride_per_conv_layer) != n_conv_layers):\n",
    "            raise Exception('The lengths of n_hiddens_per_conv_layer, patch_size_per_conv_layer, and stride_per_conv_layer must be equal.')\n",
    "\n",
    "        self.activation_function = torch.tanh if activation_function == 'tanh' else torch.relu\n",
    "\n",
    "        self.make_conv_and_fc_layers(n_inputs, n_hiddens_per_conv_layer, n_hiddens_per_fc_layer, n_outputs,\n",
    "                                     patch_size_per_conv_layer, stride_per_conv_layer)\n",
    "        \n",
    "        self.Xmeans = None\n",
    "        self.to(self.device)\n",
    "\n",
    "    def make_conv_and_fc_layers(self, n_inputs, n_hiddens_per_conv_layer, n_hiddens_per_fc_layer, n_outputs,\n",
    "                                patch_size_per_conv_layer, stride_per_conv_layer):\n",
    "                # Create all convolutional layers\n",
    "        # First argument to first Conv2d is number of channels for each pixel.\n",
    "        # Just 1 for our grayscale images.\n",
    "        n_in = 1\n",
    "        input_hw = int(np.sqrt(n_inputs))  # original input image height (=width because image assumed square)\n",
    "        self.conv_layers = torch.nn.ModuleList()\n",
    "        layeri = 0\n",
    "        for nh, patch_size, stride in zip(n_hiddens_per_conv_layer,\n",
    "                                          patch_size_per_conv_layer,\n",
    "                                          stride_per_conv_layer):\n",
    "            self.conv_layers.append(torch.nn.Conv2d(n_in, nh, kernel_size=patch_size, stride=stride))\n",
    "            conv_layer_output_hw = (input_hw - patch_size) // stride + 1\n",
    "            if conv_layer_output_hw <= 0:\n",
    "                raise Exception(f'''For conv layer {layeri}, input_hw of {input_hw} is less than patch_size {patch_size}.\n",
    "Try reducing the patch_size for this layer or for the previous layer.''')\n",
    "            input_hw = conv_layer_output_hw  # for next trip through this loop\n",
    "            n_in = nh\n",
    "            layeri += 1\n",
    "           \n",
    "        # Create all fully connected layers.  First must determine number of inputs to first\n",
    "        # fully-connected layer that results from flattening the images coming out of the last\n",
    "        # convolutional layer.\n",
    "        n_in = input_hw ** 2 * n_in\n",
    "        self.fc_layers = torch.nn.ModuleList()\n",
    "        for nh in n_hiddens_per_fc_layer:\n",
    "            self.fc_layers.append(torch.nn.Linear(n_in, nh))\n",
    "            n_in = nh\n",
    "        self.fc_layers.append(torch.nn.Linear(n_in, n_outputs))\n",
    "\n",
    "    def forward_all_outputs(self, X):\n",
    "        n_samples = X.shape[0]\n",
    "        Ys = [X]\n",
    "        for conv_layer in self.conv_layers:\n",
    "            Ys.append(self.activation_function(conv_layer(Ys[-1])))\n",
    "\n",
    "        flattened_input = Ys[-1].reshape(n_samples, -1)\n",
    "\n",
    "        for layeri, fc_layer in enumerate(self.fc_layers[:-1]):\n",
    "            if layeri == 0:\n",
    "                Ys.append(self.activation_function(fc_layer(flattened_input)))\n",
    "            else:\n",
    "                Ys.append(self.activation_function(fc_layer(Ys[-1])))\n",
    "\n",
    "        if len(self.fc_layers) == 1:\n",
    "            # only the output layer\n",
    "            Ys.append(self.fc_layers[-1](flattened_input))\n",
    "        else:\n",
    "            Ys.append(self.fc_layers[-1](Ys[-1]))\n",
    "\n",
    "        return Ys\n",
    "\n",
    "    def forward(self, X):\n",
    "        Ys = self.forward_all_outputs(X)\n",
    "        return Ys[-1]\n",
    "\n",
    "    def train(self, X, T, batch_size, n_epochs, learning_rate, method='sgd', verbose=True):\n",
    "        '''X and T must be numpy arrays'''\n",
    "\n",
    "        self.classes = np.unique(T)\n",
    "        T = np.arange(len(self.classes))[np.where(T.reshape(-1, 1) == self.classes)[1]]\n",
    "\n",
    "        # Set data matrices to torch.tensors\n",
    "        X = torch.from_numpy(X).float().to(self.device)\n",
    "        T = torch.from_numpy(T).long().to(self.device)  # required for classification in pytorch\n",
    "\n",
    "        # Setup standardization parameters\n",
    "        if self.Xmeans is None:\n",
    "            self.Xmeans = X.mean(axis=0)\n",
    "            self.Xstds = X.std(axis=0)\n",
    "            self.Xstds[self.Xstds == 0] = 1  # So we don't divide by zero when standardizing\n",
    "\n",
    "        # Standardize X\n",
    "        X = (X - self.Xmeans) / self.Xstds\n",
    "\n",
    "        X.requires_grad_(True)\n",
    "\n",
    "        if method == 'sgd':\n",
    "            optimizer = torch.optim.SGD(self.parameters(), lr=learning_rate, momentum=0.9)\n",
    "        else:\n",
    "            optimizer = torch.optim.Adam(self.parameters(), lr=learning_rate)\n",
    "\n",
    "        CELoss = torch.nn.CrossEntropyLoss(reduction='mean')\n",
    "        self.error_trace = []\n",
    "\n",
    "        for epoch in range(n_epochs):\n",
    "\n",
    "            num_batches = X.shape[0] // batch_size\n",
    "            loss_sum = 0\n",
    "\n",
    "            for k in range(num_batches):\n",
    "                start = k * batch_size\n",
    "                end = (k + 1) * batch_size\n",
    "                X_batch = X[start:end, ...]\n",
    "                T_batch = T[start:end, ...]\n",
    "\n",
    "                Y = self.forward(X_batch)\n",
    "\n",
    "                loss = CELoss(Y, T_batch)\n",
    "                loss.backward()\n",
    "\n",
    "                # Update parameters\n",
    "                optimizer.step()\n",
    "                optimizer.zero_grad()\n",
    "\n",
    "                loss_sum += float(loss.detach())\n",
    "\n",
    "            self.error_trace.append(loss_sum / num_batches)\n",
    "\n",
    "            if verbose and (epoch + 1) % (max(1, n_epochs // 10)) == 0:\n",
    "                print(f'{method}: Epoch {epoch + 1} Loss {self.error_trace[-1]:.3f}')\n",
    "\n",
    "        return self\n",
    "\n",
    "    def softmax(self, Y):\n",
    "        '''Apply to final layer weighted sum outputs'''\n",
    "        # Trick to avoid overflow\n",
    "        maxY = torch.max(Y, axis=1)[0].reshape((-1, 1))\n",
    "        expY = torch.exp(Y - maxY)\n",
    "        denom = torch.sum(expY, axis=1).reshape((-1, 1))\n",
    "        Y = expY / denom\n",
    "        return Y\n",
    "\n",
    "    def use(self, X):\n",
    "        # Set input matrix to torch.tensors\n",
    "        X = torch.from_numpy(X).float().to(self.device)\n",
    "        # Standardize X\n",
    "        X = (X - self.Xmeans) / self.Xstds\n",
    "        # Calculate output of net for all samples in X\n",
    "        Y = self.forward(X)\n",
    "        # Convert output to class probabilities\n",
    "        probs = self.softmax(Y)\n",
    "        # For each sample pick highest probability and translate that to class labels\n",
    "        classes = self.classes[torch.argmax(probs, axis=1).cpu().numpy()].reshape(-1, 1)\n",
    "        return classes, probs.detach().cpu().numpy()"
   ]
  },
  {
   "cell_type": "markdown",
   "metadata": {},
   "source": [
    "### CNN2D on MNIST Digits\n",
    "\n",
    "We will use a bunch (50,000) images of hand drawn digits from [this deeplearning.net site](http://deeplearning.net/tutorial/gettingstarted.html).  Download `mnist.pkl.gz` if you don't already have it from A4. \n",
    "\n",
    "This pickle file includes data already partitioned into training, validation, and test sets.  To read it into python, use the following steps"
   ]
  },
  {
   "cell_type": "code",
   "execution_count": 3,
   "metadata": {},
   "outputs": [
    {
     "name": "stdout",
     "output_type": "stream",
     "text": [
      "(50000, 1, 28, 28) (50000, 1) (10000, 784) (10000, 1) (10000, 1, 28, 28) (10000, 1)\n"
     ]
    }
   ],
   "source": [
    "import pickle\n",
    "import gzip\n",
    "\n",
    "with gzip.open('mnist.pkl.gz', 'rb') as f:\n",
    "    train_set, valid_set, test_set = pickle.load(f, encoding='latin1')\n",
    "\n",
    "Xtrain = train_set[0]\n",
    "Ttrain = train_set[1].reshape(-1, 1)\n",
    "\n",
    "Xval = valid_set[0]\n",
    "Tval = valid_set[1].reshape(-1, 1)\n",
    "\n",
    "Xtest = test_set[0]\n",
    "Ttest = test_set[1].reshape(-1, 1)\n",
    "\n",
    "Xtrain = Xtrain.reshape(-1, 1, 28, 28)\n",
    "Xtest = Xtest.reshape(-1, 1, 28, 28)\n",
    "\n",
    "print(Xtrain.shape, Ttrain.shape,  Xval.shape, Tval.shape,  Xtest.shape, Ttest.shape)"
   ]
  },
  {
   "cell_type": "code",
   "execution_count": 64,
   "metadata": {},
   "outputs": [
    {
     "name": "stdout",
     "output_type": "stream",
     "text": [
      "Would you like to run on the GPU? (y or n): y\n",
      "Running on cuda:0\n"
     ]
    }
   ],
   "source": [
    "device = 'cpu'\n",
    "if torch.cuda.is_available():\n",
    "    y_or_n = input('Would you like to run on the GPU? (y or n): ')\n",
    "    if y_or_n == 'y' or y_or_n == 'yes':\n",
    "        device = torch.device('cuda:0' if torch.cuda.is_available() else 'cpu')\n",
    "print('Running on', device)"
   ]
  },
  {
   "cell_type": "code",
   "execution_count": 5,
   "metadata": {},
   "outputs": [
    {
     "data": {
      "text/plain": [
       "10"
      ]
     },
     "execution_count": 5,
     "metadata": {},
     "output_type": "execute_result"
    }
   ],
   "source": [
    "len(np.unique(Ttrain))"
   ]
  },
  {
   "cell_type": "code",
   "execution_count": 6,
   "metadata": {},
   "outputs": [
    {
     "name": "stdout",
     "output_type": "stream",
     "text": [
      "adam: Epoch 2 Loss 0.445\n",
      "adam: Epoch 4 Loss 0.290\n",
      "adam: Epoch 6 Loss 0.243\n",
      "adam: Epoch 8 Loss 0.224\n",
      "adam: Epoch 10 Loss 0.206\n",
      "adam: Epoch 12 Loss 0.200\n",
      "adam: Epoch 14 Loss 0.189\n",
      "adam: Epoch 16 Loss 0.188\n",
      "adam: Epoch 18 Loss 0.181\n",
      "adam: Epoch 20 Loss 0.176\n"
     ]
    },
    {
     "data": {
      "text/plain": [
       "Text(0.5, 1.0, 'MNIST')"
      ]
     },
     "execution_count": 6,
     "metadata": {},
     "output_type": "execute_result"
    },
    {
     "data": {
      "image/png": "[encoded data removed]",
      "text/plain": [
       "<Figure size 432x288 with 1 Axes>"
      ]
     },
     "metadata": {
      "needs_background": "light"
     },
     "output_type": "display_data"
    }
   ],
   "source": [
    "n_hiddens_per_conv_layer = [10, 10]\n",
    "patch_size_per_conv_layer = [10, 5]\n",
    "stride_per_conv_layer=[4, 2]\n",
    "n_hiddens_per_fc_layer = [5]\n",
    "\n",
    "cnnet = CNN2D(28 * 28, n_hiddens_per_conv_layer, n_hiddens_per_fc_layer, len(np.unique(Ttrain)), \n",
    "              patch_size_per_conv_layer, stride_per_conv_layer, device=device)\n",
    "\n",
    "n_epochs = 20\n",
    "batch_size = 500\n",
    "learning_rate = 0.01\n",
    "\n",
    "cnnet.train(Xtrain, Ttrain, batch_size, n_epochs, learning_rate, method='adam')\n",
    "\n",
    "plt.plot(cnnet.error_trace, label='Pytorch')\n",
    "plt.title('MNIST')"
   ]
  },
  {
   "cell_type": "code",
   "execution_count": 6,
   "metadata": {},
   "outputs": [],
   "source": [
    "def confusion_matrix(Y_classes, T):\n",
    "    class_names = np.unique(T)\n",
    "    table = []\n",
    "    for true_class in class_names:\n",
    "        row = []\n",
    "        for Y_class in class_names:\n",
    "            row.append(100 * np.mean(Y_classes[T == true_class] == Y_class))\n",
    "        table.append(row)\n",
    "    conf_matrix = pandas.DataFrame(table, index=class_names, columns=class_names)\n",
    "    return conf_matrix"
   ]
  },
  {
   "cell_type": "code",
   "execution_count": 7,
   "metadata": {},
   "outputs": [
    {
     "ename": "NameError",
     "evalue": "name 'cnnet' is not defined",
     "output_type": "error",
     "traceback": [
      "\u001b[0;31m---------------------------------------------------------------------------\u001b[0m",
      "\u001b[0;31mNameError\u001b[0m                                 Traceback (most recent call last)",
      "\u001b[0;32m<ipython-input-7-51655f8329d0>\u001b[0m in \u001b[0;36m<module>\u001b[0;34m\u001b[0m\n\u001b[0;32m----> 1\u001b[0;31m \u001b[0mClasses\u001b[0m\u001b[0;34m,\u001b[0m \u001b[0m_\u001b[0m \u001b[0;34m=\u001b[0m \u001b[0mcnnet\u001b[0m\u001b[0;34m.\u001b[0m\u001b[0muse\u001b[0m\u001b[0;34m(\u001b[0m\u001b[0mXtest\u001b[0m\u001b[0;34m)\u001b[0m\u001b[0;34m\u001b[0m\u001b[0;34m\u001b[0m\u001b[0m\n\u001b[0m\u001b[1;32m      2\u001b[0m \u001b[0mperc_correct\u001b[0m \u001b[0;34m=\u001b[0m \u001b[0;36m100\u001b[0m \u001b[0;34m*\u001b[0m \u001b[0mnp\u001b[0m\u001b[0;34m.\u001b[0m\u001b[0mmean\u001b[0m\u001b[0;34m(\u001b[0m\u001b[0mClasses\u001b[0m \u001b[0;34m==\u001b[0m \u001b[0mTtest\u001b[0m\u001b[0;34m)\u001b[0m\u001b[0;34m\u001b[0m\u001b[0;34m\u001b[0m\u001b[0m\n\u001b[1;32m      3\u001b[0m \u001b[0mprint\u001b[0m\u001b[0;34m(\u001b[0m\u001b[0;34mf'Test accuracy in percent correct: {perc_correct:.2f}'\u001b[0m\u001b[0;34m)\u001b[0m\u001b[0;34m\u001b[0m\u001b[0;34m\u001b[0m\u001b[0m\n\u001b[1;32m      4\u001b[0m \u001b[0mconfusion_matrix\u001b[0m\u001b[0;34m(\u001b[0m\u001b[0mClasses\u001b[0m\u001b[0;34m,\u001b[0m \u001b[0mTtest\u001b[0m\u001b[0;34m)\u001b[0m\u001b[0;34m\u001b[0m\u001b[0;34m\u001b[0m\u001b[0m\n",
      "\u001b[0;31mNameError\u001b[0m: name 'cnnet' is not defined"
     ]
    }
   ],
   "source": [
    "Classes, _ = cnnet.use(Xtest)\n",
    "perc_correct = 100 * np.mean(Classes == Ttest)\n",
    "print(f'Test accuracy in percent correct: {perc_correct:.2f}')\n",
    "confusion_matrix(Classes, Ttest)"
   ]
  },
  {
   "cell_type": "markdown",
   "metadata": {},
   "source": [
    "### Experiments\n",
    "\n",
    "To explore the effects of different CNN structures, show results for the following steps.  For each architecture, use the same number of epochs, batch size, and learning rate as used above.\n",
    "\n",
    "1. Compare test accuracy of CNN2D nets with one, two and three convolutional layers, each with 10 units and patch sizes of 5 and strides of 1.\n",
    "2. Using the best number of convolutional layers found in Step 1, compare the test accuracies of CNN2d nets with zero, one, and two fully-connected layers each with 10 hidden units.\n",
    "\n",
    "Combine the results of each of your runs and display them in a `pandas.Dataframe` that includes the network structure and percent correct on train and test sets. Discuss your results, and describe the network structure and training parameters that produced the best test results."
   ]
  },
  {
   "cell_type": "code",
   "execution_count": 7,
   "metadata": {},
   "outputs": [],
   "source": [
    "def runExperiment(n_hiddens_per_conv_layer, patch_size_per_conv_layer, stride_per_conv_layer, n_hiddens_per_fc_layer):\n",
    "    cnnet = CNN2D(28 * 28, n_hiddens_per_conv_layer, n_hiddens_per_fc_layer, len(np.unique(Ttrain)), \n",
    "                  patch_size_per_conv_layer, stride_per_conv_layer, device=device)\n",
    "\n",
    "    n_epochs = 20\n",
    "    batch_size = 500\n",
    "    learning_rate = 0.01\n",
    "\n",
    "    cnnet.train(Xtrain, Ttrain, batch_size, n_epochs, learning_rate, method='adam')\n",
    "\n",
    "    plt.plot(cnnet.error_trace, label='Pytorch')\n",
    "    plt.title('MNIST')\n",
    "    plt.show()\n",
    "    \n",
    "    return cnnet\n",
    "\n",
    "\n",
    "def runAll(conv_options, fc_options):\n",
    "    collected_data = []\n",
    "    \n",
    "    for conv_option in conv_options:\n",
    "        patch = [5]*len(conv_option)\n",
    "        stride = [1]*len(conv_option)\n",
    "        print(conv_option, patch, stride, [5])\n",
    "        cnnet = runExperiment(conv_option, patch, stride, [5])\n",
    "        \n",
    "        Classes, _ = cnnet.use(Xtrain)\n",
    "        perc_correct_train = 100 * np.mean(Classes == Ttrain)\n",
    "\n",
    "        Classes, _ = cnnet.use(Xtest)\n",
    "        perc_correct = 100 * np.mean(Classes == Ttest)\n",
    "\n",
    "        collected_data.append([conv_option,[5],float(perc_correct_train), float(perc_correct)])\n",
    "\n",
    "        print(f'Test accuracy in percent correct: {perc_correct:.2f}\\nConfusion Matrix:')\n",
    "        print(confusion_matrix(Classes, Ttest))\n",
    "        \n",
    "    best_conv_arch = collected_data[np.argmax(collected_data, axis=0)[-1]][0]\n",
    "    print(\"The best architecture for convolutional layers was:\", best_conv_arch)\n",
    "    patch = [5]*len(best_conv_arch)\n",
    "    stride = [1]*len(best_conv_arch)\n",
    "    \n",
    "    for fc_option in fc_options:\n",
    "        print(best_conv_arch, patch, stride, fc_option)\n",
    "        cnnet = runExperiment(best_conv_arch, patch, stride, fc_option)\n",
    "        \n",
    "        Classes, _ = cnnet.use(Xtrain)\n",
    "        perc_correct_train = 100 * np.mean(Classes == Ttrain)\n",
    "\n",
    "        Classes, _ = cnnet.use(Xtest)\n",
    "        perc_correct = 100 * np.mean(Classes == Ttest)\n",
    "\n",
    "        collected_data.append([best_conv_arch,fc_option,float(perc_correct_train), float(perc_correct)])\n",
    "\n",
    "        print(f'Test accuracy in percent correct: {perc_correct:.2f}\\nConfusion Matrix:')\n",
    "        print(confusion_matrix(Classes, Ttest))\n",
    "    \n",
    "    \n",
    "    column_names = [\"Convolutional Arch\", \"Fully Connected Arch\", \"Xtrain % correct\", \"Xtest % correct\"]\n",
    "    return pandas.DataFrame(collected_data, columns=column_names)"
   ]
  },
  {
   "cell_type": "code",
   "execution_count": 8,
   "metadata": {
    "scrolled": false
   },
   "outputs": [
    {
     "name": "stdout",
     "output_type": "stream",
     "text": [
      "[10] [5] [1] [5]\n",
      "adam: Epoch 2 Loss 0.746\n",
      "adam: Epoch 4 Loss 0.588\n",
      "adam: Epoch 6 Loss 0.540\n",
      "adam: Epoch 8 Loss 0.479\n",
      "adam: Epoch 10 Loss 0.458\n",
      "adam: Epoch 12 Loss 0.437\n",
      "adam: Epoch 14 Loss 0.421\n",
      "adam: Epoch 16 Loss 0.411\n",
      "adam: Epoch 18 Loss 0.400\n",
      "adam: Epoch 20 Loss 0.393\n"
     ]
    },
    {
     "data": {
      "image/png": "[encoded data removed]",
      "text/plain": [
       "<Figure size 432x288 with 1 Axes>"
      ]
     },
     "metadata": {
      "needs_background": "light"
     },
     "output_type": "display_data"
    },
    {
     "name": "stdout",
     "output_type": "stream",
     "text": [
      "Test accuracy in percent correct: 90.01\n",
      "Confusion Matrix:\n",
      "           0          1          2          3          4          5  \\\n",
      "0  97.653061   0.000000   0.000000   0.000000   0.306122   0.306122   \n",
      "1   0.000000  93.744493   0.088106   1.938326   0.264317   0.176211   \n",
      "2   4.263566   0.000000  85.077519   3.003876   1.937984   0.000000   \n",
      "3   0.891089   0.198020   0.693069  87.920792   0.198020   4.257426   \n",
      "4   0.000000   0.000000   0.203666   0.000000  93.482688   2.342159   \n",
      "5   1.345291   0.000000   0.000000   0.672646   0.112108  93.721973   \n",
      "6   1.774530   0.000000   0.208768   0.000000   1.252610   1.356994   \n",
      "7   0.389105   0.583658   1.167315   1.653696   1.070039   0.097276   \n",
      "8   2.361396   0.205339   0.205339   2.566735   0.308008   6.673511   \n",
      "9   0.396432   0.099108   0.000000   0.198216  10.406343   1.982161   \n",
      "\n",
      "           6          7          8          9  \n",
      "0   1.326531   0.408163   0.000000   0.000000  \n",
      "1   0.176211   0.176211   2.466960   0.969163  \n",
      "2   0.872093   2.034884   1.065891   1.744186  \n",
      "3   0.297030   1.188119   4.257426   0.099010  \n",
      "4   1.221996   0.203666   0.305499   2.240326  \n",
      "5   1.793722   0.112108   2.242152   0.000000  \n",
      "6  94.989562   0.000000   0.208768   0.208768  \n",
      "7   0.000000  92.898833   0.389105   1.750973  \n",
      "8   1.026694   2.772074  82.546201   1.334702  \n",
      "9   0.495540   5.054509   2.973241  78.394450  \n",
      "[10, 10] [5, 5] [1, 1] [5]\n",
      "adam: Epoch 2 Loss 0.756\n",
      "adam: Epoch 4 Loss 0.544\n",
      "adam: Epoch 6 Loss 0.415\n",
      "adam: Epoch 8 Loss 0.383\n",
      "adam: Epoch 10 Loss 0.363\n",
      "adam: Epoch 12 Loss 0.333\n",
      "adam: Epoch 14 Loss 0.323\n",
      "adam: Epoch 16 Loss 0.294\n",
      "adam: Epoch 18 Loss 0.298\n",
      "adam: Epoch 20 Loss 0.294\n"
     ]
    },
    {
     "data": {
      "image/png": "[encoded data removed]",
      "text/plain": [
       "<Figure size 432x288 with 1 Axes>"
      ]
     },
     "metadata": {
      "needs_background": "light"
     },
     "output_type": "display_data"
    },
    {
     "name": "stdout",
     "output_type": "stream",
     "text": [
      "Test accuracy in percent correct: 93.63\n",
      "Confusion Matrix:\n",
      "           0          1          2          3          4          5  \\\n",
      "0  96.734694   0.000000   0.306122   0.000000   0.000000   0.000000   \n",
      "1   0.088106  96.651982   0.264317   0.528634   0.704846   0.264317   \n",
      "2   0.678295   0.193798  94.961240   0.290698   0.387597   0.096899   \n",
      "3   0.099010   0.000000   0.693069  92.079208   0.000000   2.376238   \n",
      "4   0.509165   0.509165   0.000000   0.000000  93.380855   0.610998   \n",
      "5   0.224215   0.000000   0.000000   2.354260   0.000000  93.834081   \n",
      "6   1.148225   0.626305   0.313152   0.313152   1.252610   0.208768   \n",
      "7   0.000000   0.291829   0.875486   1.167315   0.097276   0.097276   \n",
      "8   5.338809   0.102669   0.102669   0.205339   0.924025   1.642710   \n",
      "9   0.297324   0.198216   0.099108   0.099108   2.081269   1.486620   \n",
      "\n",
      "           6          7          8          9  \n",
      "0   2.346939   0.102041   0.306122   0.204082  \n",
      "1   0.088106   0.704846   0.704846   0.000000  \n",
      "2   0.000000   0.678295   2.616279   0.096899  \n",
      "3   0.000000   0.990099   3.663366   0.099010  \n",
      "4   0.305499   0.101833   0.509165   4.073320  \n",
      "5   1.681614   0.000000   1.008969   0.896861  \n",
      "6  96.033403   0.000000   0.000000   0.104384  \n",
      "7   0.000000  91.342412   2.821012   3.307393  \n",
      "8   0.205339   0.410678  88.706366   2.361396  \n",
      "9   0.594648   1.486620   1.387512  92.269574  \n",
      "[10, 10, 10] [5, 5, 5] [1, 1, 1] [5]\n",
      "adam: Epoch 2 Loss 0.549\n",
      "adam: Epoch 4 Loss 0.399\n",
      "adam: Epoch 6 Loss 0.323\n",
      "adam: Epoch 8 Loss 0.294\n",
      "adam: Epoch 10 Loss 0.291\n",
      "adam: Epoch 12 Loss 0.282\n",
      "adam: Epoch 14 Loss 0.270\n",
      "adam: Epoch 16 Loss 0.264\n",
      "adam: Epoch 18 Loss 0.261\n",
      "adam: Epoch 20 Loss 0.245\n"
     ]
    },
    {
     "data": {
      "image/png": "[encoded data removed]",
      "text/plain": [
       "<Figure size 432x288 with 1 Axes>"
      ]
     },
     "metadata": {
      "needs_background": "light"
     },
     "output_type": "display_data"
    },
    {
     "name": "stdout",
     "output_type": "stream",
     "text": [
      "Test accuracy in percent correct: 93.31\n",
      "Confusion Matrix:\n",
      "           0          1          2          3          4          5  \\\n",
      "0  97.857143   0.000000   0.204082   0.102041   0.000000   0.816327   \n",
      "1   0.000000  94.713656   2.907489   1.057269   0.000000   0.088106   \n",
      "2   0.387597   0.000000  93.798450   1.065891   0.000000   0.968992   \n",
      "3   0.000000   0.000000   2.871287  93.267327   0.000000   3.366337   \n",
      "4   0.203666   0.916497   1.731161   0.101833  92.260692   0.101833   \n",
      "5   0.000000   0.000000   0.224215   1.121076   0.000000  96.860987   \n",
      "6   1.878914   0.208768   0.208768   0.000000   0.104384   1.670146   \n",
      "7   0.000000   0.000000   2.237354   6.128405   0.000000   1.070039   \n",
      "8   1.026694   0.000000   1.642710   0.000000   0.205339   4.312115   \n",
      "9   0.991080   0.297324   0.000000   2.081269   1.883053   2.973241   \n",
      "\n",
      "           6          7          8          9  \n",
      "0   0.306122   0.306122   0.306122   0.102041  \n",
      "1   0.440529   0.000000   0.792952   0.000000  \n",
      "2   1.162791   2.519380   0.096899   0.000000  \n",
      "3   0.000000   0.297030   0.198020   0.000000  \n",
      "4   0.712831   0.814664   1.018330   2.138493  \n",
      "5   0.784753   0.000000   0.560538   0.448430  \n",
      "6  94.885177   0.000000   1.043841   0.000000  \n",
      "7   0.000000  90.466926   0.000000   0.097276  \n",
      "8   1.026694   0.616016  90.965092   0.205339  \n",
      "9   0.000000   3.270565   0.099108  88.404361  \n",
      "The best architecture for convolutional layers was: [10, 10]\n",
      "[10, 10] [5, 5] [1, 1] []\n"
     ]
    },
    {
     "name": "stderr",
     "output_type": "stream",
     "text": [
      "/usr/local/python-env/py36/lib/python3.6/site-packages/numpy/core/_asarray.py:83: VisibleDeprecationWarning: Creating an ndarray from ragged nested sequences (which is a list-or-tuple of lists-or-tuples-or ndarrays with different lengths or shapes) is deprecated. If you meant to do this, you must specify 'dtype=object' when creating the ndarray\n",
      "  return array(a, dtype, copy=False, order=order)\n"
     ]
    },
    {
     "name": "stdout",
     "output_type": "stream",
     "text": [
      "adam: Epoch 2 Loss 0.237\n",
      "adam: Epoch 4 Loss 0.140\n",
      "adam: Epoch 6 Loss 0.159\n",
      "adam: Epoch 8 Loss 0.266\n",
      "adam: Epoch 10 Loss 0.173\n",
      "adam: Epoch 12 Loss 0.197\n",
      "adam: Epoch 14 Loss 0.130\n",
      "adam: Epoch 16 Loss 0.107\n",
      "adam: Epoch 18 Loss 0.108\n",
      "adam: Epoch 20 Loss 0.102\n"
     ]
    },
    {
     "data": {
      "image/png": "[encoded data removed]",
      "text/plain": [
       "<Figure size 432x288 with 1 Axes>"
      ]
     },
     "metadata": {
      "needs_background": "light"
     },
     "output_type": "display_data"
    },
    {
     "name": "stdout",
     "output_type": "stream",
     "text": [
      "Test accuracy in percent correct: 96.97\n",
      "Confusion Matrix:\n",
      "           0          1          2          3          4          5  \\\n",
      "0  97.346939   0.102041   0.306122   0.000000   0.102041   0.102041   \n",
      "1   0.000000  98.590308   0.000000   0.352423   0.088106   0.000000   \n",
      "2   0.290698   1.259690  95.930233   0.872093   0.000000   0.000000   \n",
      "3   0.000000   0.000000   0.297030  97.821782   0.000000   0.198020   \n",
      "4   0.000000   0.203666   0.101833   0.000000  98.676171   0.000000   \n",
      "5   0.112108   0.000000   0.112108   1.569507   0.000000  95.291480   \n",
      "6   0.000000   0.104384   0.000000   0.000000   0.417537   0.208768   \n",
      "7   0.000000   0.486381   0.778210   0.583658   0.194553   0.000000   \n",
      "8   0.718686   0.102669   1.232033   0.205339   0.821355   0.513347   \n",
      "9   0.396432   0.594648   0.396432   0.198216   1.189296   0.099108   \n",
      "\n",
      "           6          7          8          9  \n",
      "0   1.632653   0.204082   0.204082   0.000000  \n",
      "1   0.528634   0.088106   0.352423   0.000000  \n",
      "2   0.096899   1.065891   0.387597   0.096899  \n",
      "3   0.099010   0.495050   0.495050   0.594059  \n",
      "4   0.610998   0.000000   0.000000   0.407332  \n",
      "5   1.233184   0.224215   0.896861   0.560538  \n",
      "6  98.851775   0.000000   0.417537   0.000000  \n",
      "7   0.000000  97.470817   0.000000   0.486381  \n",
      "8   0.616016   1.129363  93.942505   0.718686  \n",
      "9   0.000000   1.684836   0.000000  95.441031  \n",
      "[10, 10] [5, 5] [1, 1] [10]\n",
      "adam: Epoch 2 Loss 0.438\n",
      "adam: Epoch 4 Loss 0.327\n",
      "adam: Epoch 6 Loss 0.297\n",
      "adam: Epoch 8 Loss 0.264\n",
      "adam: Epoch 10 Loss 0.235\n",
      "adam: Epoch 12 Loss 0.252\n",
      "adam: Epoch 14 Loss 0.208\n",
      "adam: Epoch 16 Loss 0.204\n",
      "adam: Epoch 18 Loss 0.203\n",
      "adam: Epoch 20 Loss 0.207\n"
     ]
    },
    {
     "data": {
      "image/png": "[encoded data removed]",
      "text/plain": [
       "<Figure size 432x288 with 1 Axes>"
      ]
     },
     "metadata": {
      "needs_background": "light"
     },
     "output_type": "display_data"
    },
    {
     "name": "stdout",
     "output_type": "stream",
     "text": [
      "Test accuracy in percent correct: 93.41\n",
      "Confusion Matrix:\n",
      "           0          1          2          3          4          5  \\\n",
      "0  96.428571   0.000000   0.102041   0.000000   0.102041   0.102041   \n",
      "1   0.000000  98.061674   0.440529   0.176211   0.088106   0.000000   \n",
      "2   0.968992   0.193798  95.251938   0.387597   0.581395   0.000000   \n",
      "3   0.198020   0.495050   1.881188  92.970297   0.000000   1.584158   \n",
      "4   0.101833   0.610998   0.101833   0.305499  97.148676   0.101833   \n",
      "5   0.784753   0.000000   0.112108   1.121076   0.000000  95.403587   \n",
      "6   1.043841   0.208768   0.104384   0.104384   0.417537   0.313152   \n",
      "7   0.486381   2.140078   1.945525   1.945525   0.680934   0.486381   \n",
      "8   0.410678   0.205339   0.821355   0.205339   0.513347   0.718686   \n",
      "9   0.594648   1.387512   0.099108   0.792864  15.857284   3.072349   \n",
      "\n",
      "           6          7          8          9  \n",
      "0   2.040816   0.102041   1.122449   0.000000  \n",
      "1   0.352423   0.088106   0.792952   0.000000  \n",
      "2   0.775194   0.387597   1.162791   0.290698  \n",
      "3   0.000000   0.792079   1.485149   0.594059  \n",
      "4   0.610998   0.101833   0.814664   0.101833  \n",
      "5   0.560538   0.112108   1.905830   0.000000  \n",
      "6  97.390397   0.000000   0.417537   0.000000  \n",
      "7   0.000000  90.369650   0.583658   1.361868  \n",
      "8   0.102669   0.308008  96.714579   0.000000  \n",
      "9   0.099108   1.189296   2.378593  74.529237  \n",
      "[10, 10] [5, 5] [1, 1] [10, 10]\n",
      "adam: Epoch 2 Loss 0.502\n",
      "adam: Epoch 4 Loss 0.356\n",
      "adam: Epoch 6 Loss 0.321\n",
      "adam: Epoch 8 Loss 0.305\n",
      "adam: Epoch 10 Loss 0.263\n",
      "adam: Epoch 12 Loss 0.248\n",
      "adam: Epoch 14 Loss 0.247\n",
      "adam: Epoch 16 Loss 0.235\n",
      "adam: Epoch 18 Loss 0.229\n",
      "adam: Epoch 20 Loss 0.226\n"
     ]
    },
    {
     "data": {
      "image/png": "[encoded data removed]",
      "text/plain": [
       "<Figure size 432x288 with 1 Axes>"
      ]
     },
     "metadata": {
      "needs_background": "light"
     },
     "output_type": "display_data"
    },
    {
     "name": "stdout",
     "output_type": "stream",
     "text": [
      "Test accuracy in percent correct: 93.85\n",
      "Confusion Matrix:\n",
      "           0          1          2          3          4          5  \\\n",
      "0  95.714286   0.000000   0.102041   0.000000   0.000000   0.306122   \n",
      "1   0.000000  97.797357   0.352423   0.528634   0.088106   0.000000   \n",
      "2   0.096899   0.096899  95.542636   0.968992   0.387597   0.193798   \n",
      "3   0.000000   0.099010   0.990099  95.544554   0.000000   0.693069   \n",
      "4   0.203666   0.101833   0.305499   0.101833  93.380855   0.000000   \n",
      "5   1.008969   0.112108   0.000000   5.044843   0.000000  90.919283   \n",
      "6   0.730689   0.208768   1.565762   0.000000   0.939457   1.774530   \n",
      "7   0.097276   0.486381   2.334630   1.264591   0.000000   0.194553   \n",
      "8   0.205339   0.102669   1.437372   1.026694   0.924025   1.745380   \n",
      "9   0.594648   0.297324   0.594648   2.279485   2.874133   1.288404   \n",
      "\n",
      "           6          7          8          9  \n",
      "0   2.755102   0.408163   0.714286   0.000000  \n",
      "1   0.352423   0.264317   0.616740   0.000000  \n",
      "2   0.678295   1.162791   0.775194   0.096899  \n",
      "3   0.000000   1.287129   1.188119   0.198020  \n",
      "4   0.814664   0.509165   0.000000   4.582485  \n",
      "5   0.336323   0.224215   0.896861   1.457399  \n",
      "6  93.841336   0.000000   0.939457   0.000000  \n",
      "7   0.000000  93.871595   0.486381   1.264591  \n",
      "8   0.205339   1.026694  92.607803   0.718686  \n",
      "9   0.099108   2.874133   0.693756  88.404361  \n"
     ]
    }
   ],
   "source": [
    "resultdf = runAll([[10],[10,10],[10,10,10]], [[],[10],[10,10]])"
   ]
  },
  {
   "cell_type": "code",
   "execution_count": 9,
   "metadata": {},
   "outputs": [
    {
     "data": {
      "text/html": [
       "<div>\n",
       "<style scoped>\n",
       "    .dataframe tbody tr th:only-of-type {\n",
       "        vertical-align: middle;\n",
       "    }\n",
       "\n",
       "    .dataframe tbody tr th {\n",
       "        vertical-align: top;\n",
       "    }\n",
       "\n",
       "    .dataframe thead th {\n",
       "        text-align: right;\n",
       "    }\n",
       "</style>\n",
       "<table border=\"1\" class=\"dataframe\">\n",
       "  <thead>\n",
       "    <tr style=\"text-align: right;\">\n",
       "      <th></th>\n",
       "      <th>Convolutional Arch</th>\n",
       "      <th>Fully Connected Arch</th>\n",
       "      <th>Xtrain % correct</th>\n",
       "      <th>Xtest % correct</th>\n",
       "    </tr>\n",
       "  </thead>\n",
       "  <tbody>\n",
       "    <tr>\n",
       "      <th>0</th>\n",
       "      <td>[10]</td>\n",
       "      <td>[5]</td>\n",
       "      <td>90.632</td>\n",
       "      <td>90.01</td>\n",
       "    </tr>\n",
       "    <tr>\n",
       "      <th>1</th>\n",
       "      <td>[10, 10]</td>\n",
       "      <td>[5]</td>\n",
       "      <td>93.052</td>\n",
       "      <td>93.63</td>\n",
       "    </tr>\n",
       "    <tr>\n",
       "      <th>2</th>\n",
       "      <td>[10, 10, 10]</td>\n",
       "      <td>[5]</td>\n",
       "      <td>92.798</td>\n",
       "      <td>93.31</td>\n",
       "    </tr>\n",
       "    <tr>\n",
       "      <th>3</th>\n",
       "      <td>[10, 10]</td>\n",
       "      <td>[]</td>\n",
       "      <td>98.618</td>\n",
       "      <td>96.97</td>\n",
       "    </tr>\n",
       "    <tr>\n",
       "      <th>4</th>\n",
       "      <td>[10, 10]</td>\n",
       "      <td>[10]</td>\n",
       "      <td>93.058</td>\n",
       "      <td>93.41</td>\n",
       "    </tr>\n",
       "    <tr>\n",
       "      <th>5</th>\n",
       "      <td>[10, 10]</td>\n",
       "      <td>[10, 10]</td>\n",
       "      <td>93.686</td>\n",
       "      <td>93.85</td>\n",
       "    </tr>\n",
       "  </tbody>\n",
       "</table>\n",
       "</div>"
      ],
      "text/plain": [
       "  Convolutional Arch Fully Connected Arch  Xtrain % correct  Xtest % correct\n",
       "0               [10]                  [5]            90.632            90.01\n",
       "1           [10, 10]                  [5]            93.052            93.63\n",
       "2       [10, 10, 10]                  [5]            92.798            93.31\n",
       "3           [10, 10]                   []            98.618            96.97\n",
       "4           [10, 10]                 [10]            93.058            93.41\n",
       "5           [10, 10]             [10, 10]            93.686            93.85"
      ]
     },
     "execution_count": 9,
     "metadata": {},
     "output_type": "execute_result"
    }
   ],
   "source": [
    "resultdf"
   ]
  },
  {
   "cell_type": "markdown",
   "metadata": {},
   "source": [
    "### Discussion\n",
    "This ended up being very interesting. The architectures with 2 and 3 convolutional layers performed very similarly, with the 2 layers being the winner in this case. Other times when I ran while building the functions resulted with the one with 3 layers performing better. Then, when testing the fully connected layer architectures, the one with no fully connected layers was the best, and the other two performed very similar to each other. So the winner was clear. I expect this could be explained by there not being many classes, or the dataset being mostly simple. So the extra complexity of adding more layers was not necessary and actually detrimental."
   ]
  },
  {
   "cell_type": "markdown",
   "metadata": {},
   "source": [
    "## CNN1D\n",
    "\n",
    "Complete the following code cell to define `CNN1D`.  The only change from `CNN2D` that is required is in the constructor.  Complete these steps.\n",
    "\n",
    "1. Copy the `make_conv_and_fc_layers` function from `CNN2D`.\n",
    "2. For each convolutional layer, create a `torch.nn.Conv1d` object instead of a `torch.nn.Conv2d` object.\n",
    "3. Modify the statement `input_hw = int(np.sqrt(n_inputs))` appropriately. `input_hw` refers to \"input height width\".  What would beed to change to make this make sense for a single dimensional sample?\n",
    "4. Modify the statement `n_in = input_hw ** 2 * n_in` appropriately."
   ]
  },
  {
   "cell_type": "code",
   "execution_count": 12,
   "metadata": {},
   "outputs": [],
   "source": [
    "class CNN1D(CNN2D):\n",
    "\n",
    "    def make_conv_and_fc_layers(self, n_inputs, n_hiddens_per_conv_layer, n_hiddens_per_fc_layer, n_outputs,\n",
    "                                patch_size_per_conv_layer, stride_per_conv_layer):\n",
    "                # Create all convolutional layers\n",
    "        # First argument to first Conv2d is number of channels for each pixel.\n",
    "        # Just 1 for our grayscale images.\n",
    "        n_in = 1\n",
    "        input_hw = n_inputs  # original input image height (=width because image assumed square)\n",
    "        self.conv_layers = torch.nn.ModuleList()\n",
    "        layeri = 0\n",
    "        for nh, patch_size, stride in zip(n_hiddens_per_conv_layer,\n",
    "                                          patch_size_per_conv_layer,\n",
    "                                          stride_per_conv_layer):\n",
    "            self.conv_layers.append(torch.nn.Conv1d(n_in, nh, kernel_size=patch_size, stride=stride))\n",
    "            conv_layer_output_hw = (input_hw - patch_size) // stride + 1\n",
    "            if conv_layer_output_hw <= 0:\n",
    "                raise Exception(f'''For conv layer {layeri}, input_hw of {input_hw} is less than patch_size {patch_size}.\n",
    "Try reducing the patch_size for this layer or for the previous layer.''')\n",
    "            input_hw = conv_layer_output_hw  # for next trip through this loop\n",
    "            n_in = nh\n",
    "            layeri += 1\n",
    "           \n",
    "        # Create all fully connected layers.  First must determine number of inputs to first\n",
    "        # fully-connected layer that results from flattening the images coming out of the last\n",
    "        # convolutional layer.\n",
    "        n_in = input_hw * n_in\n",
    "        self.fc_layers = torch.nn.ModuleList()\n",
    "        for nh in n_hiddens_per_fc_layer:\n",
    "            self.fc_layers.append(torch.nn.Linear(n_in, nh))\n",
    "            n_in = nh\n",
    "        self.fc_layers.append(torch.nn.Linear(n_in, n_outputs))"
   ]
  },
  {
   "cell_type": "markdown",
   "metadata": {},
   "source": [
    "### Toy Data to Test `CNN1D`\n",
    "\n",
    "Here is some toy data to test your `CNN1D` definition.  Each sample is now 1-dimensional.  Let's make vectors of two kinds, ones with square pulses and ones with triangular pulses, at random locations and random durations. Both kinds will be 100 values long, with zeros between the waves."
   ]
  },
  {
   "cell_type": "code",
   "execution_count": 13,
   "metadata": {},
   "outputs": [],
   "source": [
    "def make_square_pulse():\n",
    "    sample = np.zeros(100)\n",
    "    for i in range(np.random.randint(1, 5)):  # making from 1 to 4 pulses\n",
    "        start = np.random.randint(0, 80)\n",
    "        width = np.random.randint(5, 20)\n",
    "        sample[start:start + width] = 1\n",
    "    return sample"
   ]
  },
  {
   "cell_type": "code",
   "execution_count": 14,
   "metadata": {},
   "outputs": [
    {
     "data": {
      "text/plain": [
       "array([1., 1., 1., 1., 1., 1., 1., 1., 1., 1., 1., 1., 1., 1., 1., 1., 1.,\n",
       "       1., 0., 0., 0., 0., 0., 0., 0., 0., 0., 0., 0., 0., 0., 0., 0., 0.,\n",
       "       0., 0., 0., 0., 0., 0., 0., 0., 0., 0., 0., 0., 0., 0., 0., 0., 0.,\n",
       "       0., 0., 0., 1., 1., 1., 1., 1., 1., 1., 1., 1., 1., 1., 1., 1., 1.,\n",
       "       1., 1., 1., 1., 1., 1., 1., 1., 1., 1., 1., 1., 1., 1., 0., 0., 0.,\n",
       "       0., 0., 0., 0., 0., 0., 0., 0., 0., 0., 0., 0., 0., 0., 0.])"
      ]
     },
     "execution_count": 14,
     "metadata": {},
     "output_type": "execute_result"
    }
   ],
   "source": [
    "square_pulse = make_square_pulse()\n",
    "square_pulse"
   ]
  },
  {
   "cell_type": "code",
   "execution_count": 15,
   "metadata": {
    "scrolled": true
   },
   "outputs": [
    {
     "data": {
      "text/plain": [
       "[<matplotlib.lines.Line2D at 0x7f7370b78d30>]"
      ]
     },
     "execution_count": 15,
     "metadata": {},
     "output_type": "execute_result"
    },
    {
     "data": {
      "image/png": "[encoded data removed]",
      "text/plain": [
       "<Figure size 432x288 with 1 Axes>"
      ]
     },
     "metadata": {
      "needs_background": "light"
     },
     "output_type": "display_data"
    }
   ],
   "source": [
    "plt.plot(square_pulse)"
   ]
  },
  {
   "cell_type": "code",
   "execution_count": 16,
   "metadata": {},
   "outputs": [],
   "source": [
    "def make_triangular_pulse():\n",
    "    sample = np.zeros(100)\n",
    "    for i in range(np.random.randint(1, 5)):  # making from 1 to 4 pulses\n",
    "        start = np.random.randint(0, 80)\n",
    "        width = np.random.randint(5, 20)\n",
    "        if width % 2 == 1:\n",
    "            width += 1  # if odd, make it even\n",
    "        sample[start:start + width // 2] = np.linspace(0, 1, width // 2)\n",
    "        sample[start + width // 2:start + width] = np.linspace(1, 0, width // 2)\n",
    "    return sample"
   ]
  },
  {
   "cell_type": "code",
   "execution_count": 17,
   "metadata": {},
   "outputs": [
    {
     "data": {
      "text/plain": [
       "array([0.        , 0.        , 0.        , 0.        , 0.        ,\n",
       "       0.        , 0.        , 0.14285714, 0.28571429, 0.42857143,\n",
       "       0.57142857, 0.71428571, 0.85714286, 1.        , 1.        ,\n",
       "       0.85714286, 0.71428571, 0.57142857, 0.42857143, 0.28571429,\n",
       "       0.14285714, 0.        , 0.        , 0.        , 0.        ,\n",
       "       0.        , 0.        , 0.        , 0.        , 0.        ,\n",
       "       0.        , 0.        , 0.        , 0.        , 0.        ,\n",
       "       0.        , 0.        , 0.        , 0.        , 0.        ,\n",
       "       0.        , 0.        , 0.        , 0.        , 0.        ,\n",
       "       0.        , 0.        , 0.        , 0.        , 0.        ,\n",
       "       0.        , 0.        , 0.        , 0.        , 0.        ,\n",
       "       0.        , 0.        , 0.        , 0.        , 0.14285714,\n",
       "       0.28571429, 0.42857143, 0.57142857, 0.71428571, 0.85714286,\n",
       "       1.        , 1.        , 0.85714286, 0.71428571, 0.57142857,\n",
       "       0.42857143, 0.28571429, 0.14285714, 0.        , 0.14285714,\n",
       "       0.        , 0.25      , 0.        , 0.        , 0.        ,\n",
       "       0.        , 0.        , 0.        , 0.        , 0.        ,\n",
       "       0.        , 0.        , 0.        , 0.        , 0.        ,\n",
       "       0.        , 0.        , 0.        , 0.        , 0.        ,\n",
       "       0.        , 0.        , 0.        , 0.        , 0.        ])"
      ]
     },
     "execution_count": 17,
     "metadata": {},
     "output_type": "execute_result"
    }
   ],
   "source": [
    "triangular_pulse = make_triangular_pulse()\n",
    "triangular_pulse"
   ]
  },
  {
   "cell_type": "code",
   "execution_count": 18,
   "metadata": {
    "scrolled": true
   },
   "outputs": [
    {
     "data": {
      "text/plain": [
       "[<matplotlib.lines.Line2D at 0x7f73702da908>]"
      ]
     },
     "execution_count": 18,
     "metadata": {},
     "output_type": "execute_result"
    },
    {
     "data": {
      "image/png": "[encoded data removed]",
      "text/plain": [
       "<Figure size 432x288 with 1 Axes>"
      ]
     },
     "metadata": {
      "needs_background": "light"
     },
     "output_type": "display_data"
    }
   ],
   "source": [
    "plt.plot(triangular_pulse)"
   ]
  },
  {
   "cell_type": "code",
   "execution_count": 19,
   "metadata": {},
   "outputs": [
    {
     "data": {
      "text/plain": [
       "((1000, 100), (1000, 1), (1000, 100), (1000, 1))"
      ]
     },
     "execution_count": 19,
     "metadata": {},
     "output_type": "execute_result"
    }
   ],
   "source": [
    "n_each = 500\n",
    "Xtrain = np.array([make_square_pulse() for i in range(n_each)] +\n",
    "                   [make_triangular_pulse() for i in range(n_each)])\n",
    "Ttrain = np.array(['square'] * n_each + ['triangular'] * n_each).reshape(-1, 1)\n",
    "n_each = 500\n",
    "Xtest = np.array([make_square_pulse() for i in range(n_each)] +\n",
    "                   [make_triangular_pulse() for i in range(n_each)])\n",
    "Ttest = np.array(['square'] * n_each + ['triangular'] * n_each).reshape(-1, 1)\n",
    "Xtrain.shape, Ttrain.shape, Xtest.shape, Ttest.shape"
   ]
  },
  {
   "cell_type": "code",
   "execution_count": 20,
   "metadata": {},
   "outputs": [
    {
     "data": {
      "text/plain": [
       "True"
      ]
     },
     "execution_count": 20,
     "metadata": {},
     "output_type": "execute_result"
    }
   ],
   "source": [
    "np.newaxis == None"
   ]
  },
  {
   "cell_type": "code",
   "execution_count": 21,
   "metadata": {},
   "outputs": [
    {
     "data": {
      "text/plain": [
       "(1000, 1, 100)"
      ]
     },
     "execution_count": 21,
     "metadata": {},
     "output_type": "execute_result"
    }
   ],
   "source": [
    "Xtrain = Xtrain[:, None, :]\n",
    "Xtrain.shape"
   ]
  },
  {
   "cell_type": "code",
   "execution_count": 22,
   "metadata": {},
   "outputs": [
    {
     "data": {
      "text/plain": [
       "((1000, 1, 100), (1000, 1, 100))"
      ]
     },
     "execution_count": 22,
     "metadata": {},
     "output_type": "execute_result"
    }
   ],
   "source": [
    "Xtrain = Xtrain.reshape(Xtrain.shape[0], 1, -1)\n",
    "Xtest = Xtest.reshape(Xtest.shape[0], 1, -1)\n",
    "Xtrain.shape, Xtest.shape"
   ]
  },
  {
   "cell_type": "code",
   "execution_count": 23,
   "metadata": {},
   "outputs": [
    {
     "name": "stdout",
     "output_type": "stream",
     "text": [
      "adam: Epoch 10 Loss 0.615\n",
      "adam: Epoch 20 Loss 0.436\n",
      "adam: Epoch 30 Loss 0.218\n",
      "adam: Epoch 40 Loss 0.064\n",
      "adam: Epoch 50 Loss 0.032\n",
      "adam: Epoch 60 Loss 0.006\n",
      "adam: Epoch 70 Loss 0.009\n",
      "adam: Epoch 80 Loss 0.004\n",
      "adam: Epoch 90 Loss 0.000\n",
      "adam: Epoch 100 Loss 0.000\n"
     ]
    },
    {
     "data": {
      "text/plain": [
       "Text(0.5, 1.0, 'Pulses')"
      ]
     },
     "execution_count": 23,
     "metadata": {},
     "output_type": "execute_result"
    },
    {
     "data": {
      "image/png": "[encoded data removed]",
      "text/plain": [
       "<Figure size 432x288 with 1 Axes>"
      ]
     },
     "metadata": {
      "needs_background": "light"
     },
     "output_type": "display_data"
    }
   ],
   "source": [
    "cnnet1 = CNN1D(100, [10, 5], [5, 5], 2, [10, 4], [1, 2], device=device)\n",
    "\n",
    "n_epochs = 100\n",
    "batch_size = 10\n",
    "learning_rate = 0.001\n",
    "\n",
    "cnnet1.train(Xtrain, Ttrain, batch_size, n_epochs, learning_rate, method='adam')\n",
    "\n",
    "plt.plot(cnnet1.error_trace, label='Pytorch')\n",
    "plt.title('Pulses')"
   ]
  },
  {
   "cell_type": "code",
   "execution_count": 24,
   "metadata": {},
   "outputs": [
    {
     "name": "stdout",
     "output_type": "stream",
     "text": [
      "Test accuracy in percent correct: 99.20\n"
     ]
    },
    {
     "data": {
      "text/html": [
       "<div>\n",
       "<style scoped>\n",
       "    .dataframe tbody tr th:only-of-type {\n",
       "        vertical-align: middle;\n",
       "    }\n",
       "\n",
       "    .dataframe tbody tr th {\n",
       "        vertical-align: top;\n",
       "    }\n",
       "\n",
       "    .dataframe thead th {\n",
       "        text-align: right;\n",
       "    }\n",
       "</style>\n",
       "<table border=\"1\" class=\"dataframe\">\n",
       "  <thead>\n",
       "    <tr style=\"text-align: right;\">\n",
       "      <th></th>\n",
       "      <th>square</th>\n",
       "      <th>triangular</th>\n",
       "    </tr>\n",
       "  </thead>\n",
       "  <tbody>\n",
       "    <tr>\n",
       "      <th>square</th>\n",
       "      <td>98.4</td>\n",
       "      <td>1.6</td>\n",
       "    </tr>\n",
       "    <tr>\n",
       "      <th>triangular</th>\n",
       "      <td>0.0</td>\n",
       "      <td>100.0</td>\n",
       "    </tr>\n",
       "  </tbody>\n",
       "</table>\n",
       "</div>"
      ],
      "text/plain": [
       "            square  triangular\n",
       "square        98.4         1.6\n",
       "triangular     0.0       100.0"
      ]
     },
     "execution_count": 24,
     "metadata": {},
     "output_type": "execute_result"
    }
   ],
   "source": [
    "Classes, _ = cnnet1.use(Xtest)\n",
    "perc_correct = 100 * np.mean(Classes == Ttest)\n",
    "print(f'Test accuracy in percent correct: {perc_correct:.2f}')\n",
    "confusion_matrix(Classes, Ttest)"
   ]
  },
  {
   "cell_type": "code",
   "execution_count": 25,
   "metadata": {},
   "outputs": [
    {
     "data": {
      "text/plain": [
       "torch.Size([10, 10])"
      ]
     },
     "execution_count": 25,
     "metadata": {},
     "output_type": "execute_result"
    },
    {
     "data": {
      "image/png": "[encoded data removed]",
      "text/plain": [
       "<Figure size 432x288 with 1 Axes>"
      ]
     },
     "metadata": {
      "needs_background": "light"
     },
     "output_type": "display_data"
    }
   ],
   "source": [
    "W = list(cnnet1.children())[0][0].weight.data.cpu()  # in case running on GPU\n",
    "plt.plot(W[:, 0, :].T);\n",
    "W[:, 0, :].T.shape"
   ]
  },
  {
   "cell_type": "markdown",
   "metadata": {},
   "source": [
    "### Experiments on ECG Data"
   ]
  },
  {
   "cell_type": "markdown",
   "metadata": {},
   "source": [
    "An [electrocardiogram](), or ECG, is a record in time of a voltage generated by the heart.  It can be used to diagnose abnormalities in the heart.\n",
    "\n",
    "Public datasets containing ECG traces are available, such as the [Non-Invasive Fetal ECG Arrhythmia Database](https://physionet.org/content/nifeadb/1.0.0/) site. The data files there are in a standard waveform-database (WFDB) format.  As is often the case for most standard data formats you run in to, a python package exists for reading this data, called [wfdb](https://github.com/MIT-LCP/wfdb-python) that you can install using [conda](https://anaconda.org/conda-forge/wfdb).\n",
    "\n",
    "This data set includes ECG from normal patients and from ones with arrythmias, with data file names like `ARR_01.dat` and `NR_01.dat`, respectively.  We have already downloaded these files, read them in using the `wfdb` package and collected them into segments of 2000 voltages.  The sample rate for this data is 1000 Hz, so 2000 voltages spans 2 seconds. Download this data set from [ecg.npy](https://www.cs.colostate.edu/~cs445/notebooks/ecg.npy) \n",
    "\n",
    "Now, our job for our `CNN1D` is to classify each 2000 sample segment into the classes `normal` or `arrythmia`."
   ]
  },
  {
   "cell_type": "markdown",
   "metadata": {},
   "source": [
    "After you have downloaded `ecg.npy`, you can load it and plot a few samples."
   ]
  },
  {
   "cell_type": "code",
   "execution_count": 65,
   "metadata": {},
   "outputs": [
    {
     "data": {
      "text/plain": [
       "((2429, 2000), (3634, 2000))"
      ]
     },
     "execution_count": 65,
     "metadata": {},
     "output_type": "execute_result"
    }
   ],
   "source": [
    "ecg = np.load('ecg.npy')\n",
    "arr = ecg['arrythmia']\n",
    "norm = ecg['normal']\n",
    "arr.shape, norm.shape"
   ]
  },
  {
   "cell_type": "code",
   "execution_count": 66,
   "metadata": {},
   "outputs": [
    {
     "data": {
      "image/png": "[encoded data removed]",
      "text/plain": [
       "<Figure size 1080x1080 with 4 Axes>"
      ]
     },
     "metadata": {
      "needs_background": "light"
     },
     "output_type": "display_data"
    }
   ],
   "source": [
    "plt.figure(figsize=(15, 15))\n",
    "\n",
    "plt.subplot(2, 2, 1)\n",
    "plt.plot(arr[0])\n",
    "plt.legend(('Arrythmia',))\n",
    "plt.subplot(2, 2, 2)\n",
    "plt.plot(arr[100])\n",
    "plt.legend(('Arrythmia',))\n",
    "\n",
    "plt.subplot(2, 2, 3)\n",
    "plt.plot(norm[0])\n",
    "plt.legend(('Normal',))\n",
    "plt.subplot(2, 2, 4)\n",
    "plt.plot(norm[100])\n",
    "plt.legend(('Normal',));"
   ]
  },
  {
   "cell_type": "markdown",
   "metadata": {},
   "source": [
    "Now, let's stack the `arr` and `norm` samples together, create class labels for each sample, randomly rearrange them, and divide into train and test sets."
   ]
  },
  {
   "cell_type": "code",
   "execution_count": 67,
   "metadata": {},
   "outputs": [
    {
     "data": {
      "text/plain": [
       "((4850, 1, 2000), (4850, 1), (1213, 1, 2000), (1213, 1))"
      ]
     },
     "execution_count": 67,
     "metadata": {},
     "output_type": "execute_result"
    }
   ],
   "source": [
    "X = np.vstack((arr, norm))\n",
    "X = X.reshape(X.shape[0], 1, -1)\n",
    "T = np.hstack((['arr'] * arr.shape[0], ['nr'] * norm.shape[0])).reshape(-1, 1)\n",
    "n_samples = X.shape[0]\n",
    "rows = np.arange(n_samples)\n",
    "np.random.shuffle(rows)\n",
    "n_train = int(n_samples * 0.8)\n",
    "Xtrain = X[rows[:n_train], ...]\n",
    "Ttrain = T[rows[:n_train], ...]\n",
    "Xtest = X[rows[n_train:], ...]\n",
    "Ttest = T[rows[n_train:], ...]\n",
    "\n",
    "Xtrain.shape, Ttrain.shape, Xtest.shape, Ttest.shape"
   ]
  },
  {
   "cell_type": "code",
   "execution_count": 68,
   "metadata": {},
   "outputs": [
    {
     "data": {
      "text/plain": [
       "array([['nr'],\n",
       "       ['nr'],\n",
       "       ['nr'],\n",
       "       ...,\n",
       "       ['arr'],\n",
       "       ['arr'],\n",
       "       ['nr']], dtype='<U3')"
      ]
     },
     "execution_count": 68,
     "metadata": {},
     "output_type": "execute_result"
    }
   ],
   "source": [
    "Ttrain"
   ]
  },
  {
   "cell_type": "markdown",
   "metadata": {},
   "source": [
    "Okay, ready to train.  Create a `CNN1D` network with a statements like this."
   ]
  },
  {
   "cell_type": "code",
   "execution_count": 69,
   "metadata": {},
   "outputs": [],
   "source": [
    "cnn1d = CNN1D(Xtrain.shape[-1], [5, 10], [10, 10], 2, [100, 20], [20, 5], device=device)"
   ]
  },
  {
   "cell_type": "markdown",
   "metadata": {},
   "source": [
    "Now, experiment with at least ten different network structures, patch sizes and strides and compare them with the percent accuracy on test data.  Combine the results of each of your runs and display them in a `pandas.Dataframe` that includes the network structure and percent correct on train and test sets. Discuss your results, and describe the network structure and training parameters that produced the best test results."
   ]
  },
  {
   "cell_type": "code",
   "execution_count": 70,
   "metadata": {},
   "outputs": [],
   "source": [
    "def runEcgExperiments(struct_options):\n",
    "    collected_data = []\n",
    "    for struct_option in struct_options:\n",
    "        cnn1d = CNN1D(Xtrain.shape[-1], struct_option[0], struct_option[1], 2, struct_option[2], struct_option[3], device=device)\n",
    "        n_epochs = 50\n",
    "        batch_size = 10\n",
    "        learning_rate = 0.001\n",
    "\n",
    "        cnn1d.train(Xtrain, Ttrain, batch_size, n_epochs, learning_rate, method='adam')\n",
    "        \n",
    "        Classes, _ = cnn1d.use(Xtrain)\n",
    "        perc_correct_train = 100 * np.mean(Classes == Ttrain)\n",
    "\n",
    "        Classes, _ = cnn1d.use(Xtest)\n",
    "        perc_correct_test = 100 * np.mean(Classes == Ttest)\n",
    "\n",
    "        collected_data.append([*struct_option,float(perc_correct_train), float(perc_correct_test)])\n",
    "    \n",
    "    column_names = [\"Conv Structure\", \"FC Structure\", \"Patch Sizes\", \"Strides\", \"Train % correct\", \"Test % correct\"]\n",
    "    return pandas.DataFrame(collected_data, columns=column_names)\n",
    "                "
   ]
  },
  {
   "cell_type": "code",
   "execution_count": 71,
   "metadata": {},
   "outputs": [],
   "source": [
    "struct_options = [\n",
    "    ([5], [20, 10, 5], [1], [1]),\n",
    "    ([10], [], [100], [20]),\n",
    "    ([20, 10], [], [100, 20], [20, 5]),\n",
    "    ([10],[10], [100], [20]),\n",
    "    ([20, 10], [10], [100, 20], [20, 5]),\n",
    "    ([10], [20, 10], [100], [20]),\n",
    "    ([20, 10], [20, 10], [100,20],[20,5]),\n",
    "    ([10], [20, 10, 5],[100],[20]),\n",
    "    ([20, 10], [20, 10, 5], [100,20],[20,5]),\n",
    "    ([20, 10, 5], [20, 10, 5],[100,20,5], [20,5,1]),\n",
    "]"
   ]
  },
  {
   "cell_type": "code",
   "execution_count": 72,
   "metadata": {
    "scrolled": true
   },
   "outputs": [
    {
     "name": "stdout",
     "output_type": "stream",
     "text": [
      "adam: Epoch 5 Loss 0.676\n",
      "adam: Epoch 10 Loss 0.676\n",
      "adam: Epoch 15 Loss 0.676\n",
      "adam: Epoch 20 Loss 0.676\n",
      "adam: Epoch 25 Loss 0.676\n",
      "adam: Epoch 30 Loss 0.676\n",
      "adam: Epoch 35 Loss 0.676\n",
      "adam: Epoch 40 Loss 0.676\n",
      "adam: Epoch 45 Loss 0.676\n",
      "adam: Epoch 50 Loss 0.676\n",
      "adam: Epoch 5 Loss 0.540\n",
      "adam: Epoch 10 Loss 0.506\n",
      "adam: Epoch 15 Loss 0.490\n",
      "adam: Epoch 20 Loss 0.478\n",
      "adam: Epoch 25 Loss 0.469\n",
      "adam: Epoch 30 Loss 0.463\n",
      "adam: Epoch 35 Loss 0.459\n",
      "adam: Epoch 40 Loss 0.454\n",
      "adam: Epoch 45 Loss 0.448\n",
      "adam: Epoch 50 Loss 0.444\n",
      "adam: Epoch 5 Loss 0.480\n",
      "adam: Epoch 10 Loss 0.246\n",
      "adam: Epoch 15 Loss 0.134\n",
      "adam: Epoch 20 Loss 0.087\n",
      "adam: Epoch 25 Loss 0.065\n",
      "adam: Epoch 30 Loss 0.054\n",
      "adam: Epoch 35 Loss 0.055\n",
      "adam: Epoch 40 Loss 0.028\n",
      "adam: Epoch 45 Loss 0.027\n",
      "adam: Epoch 50 Loss 0.032\n",
      "adam: Epoch 5 Loss 0.491\n",
      "adam: Epoch 10 Loss 0.336\n",
      "adam: Epoch 15 Loss 0.247\n",
      "adam: Epoch 20 Loss 0.220\n",
      "adam: Epoch 25 Loss 0.166\n",
      "adam: Epoch 30 Loss 0.147\n",
      "adam: Epoch 35 Loss 0.137\n",
      "adam: Epoch 40 Loss 0.099\n",
      "adam: Epoch 45 Loss 0.100\n",
      "adam: Epoch 50 Loss 0.078\n",
      "adam: Epoch 5 Loss 0.410\n",
      "adam: Epoch 10 Loss 0.196\n",
      "adam: Epoch 15 Loss 0.104\n",
      "adam: Epoch 20 Loss 0.057\n",
      "adam: Epoch 25 Loss 0.042\n",
      "adam: Epoch 30 Loss 0.041\n",
      "adam: Epoch 35 Loss 0.034\n",
      "adam: Epoch 40 Loss 0.022\n",
      "adam: Epoch 45 Loss 0.011\n",
      "adam: Epoch 50 Loss 0.006\n",
      "adam: Epoch 5 Loss 0.403\n",
      "adam: Epoch 10 Loss 0.245\n",
      "adam: Epoch 15 Loss 0.161\n",
      "adam: Epoch 20 Loss 0.112\n",
      "adam: Epoch 25 Loss 0.097\n",
      "adam: Epoch 30 Loss 0.110\n",
      "adam: Epoch 35 Loss 0.059\n",
      "adam: Epoch 40 Loss 0.074\n",
      "adam: Epoch 45 Loss 0.073\n",
      "adam: Epoch 50 Loss 0.070\n",
      "adam: Epoch 5 Loss 0.374\n",
      "adam: Epoch 10 Loss 0.173\n",
      "adam: Epoch 15 Loss 0.093\n",
      "adam: Epoch 20 Loss 0.070\n",
      "adam: Epoch 25 Loss 0.059\n",
      "adam: Epoch 30 Loss 0.052\n",
      "adam: Epoch 35 Loss 0.066\n",
      "adam: Epoch 40 Loss 0.054\n",
      "adam: Epoch 45 Loss 0.029\n",
      "adam: Epoch 50 Loss 0.043\n",
      "adam: Epoch 5 Loss 0.407\n",
      "adam: Epoch 10 Loss 0.236\n",
      "adam: Epoch 15 Loss 0.148\n",
      "adam: Epoch 20 Loss 0.112\n",
      "adam: Epoch 25 Loss 0.103\n",
      "adam: Epoch 30 Loss 0.086\n",
      "adam: Epoch 35 Loss 0.091\n",
      "adam: Epoch 40 Loss 0.076\n",
      "adam: Epoch 45 Loss 0.065\n",
      "adam: Epoch 50 Loss 0.061\n",
      "adam: Epoch 5 Loss 0.380\n",
      "adam: Epoch 10 Loss 0.179\n",
      "adam: Epoch 15 Loss 0.102\n",
      "adam: Epoch 20 Loss 0.066\n",
      "adam: Epoch 25 Loss 0.045\n",
      "adam: Epoch 30 Loss 0.045\n",
      "adam: Epoch 35 Loss 0.022\n",
      "adam: Epoch 40 Loss 0.051\n",
      "adam: Epoch 45 Loss 0.041\n",
      "adam: Epoch 50 Loss 0.017\n",
      "adam: Epoch 5 Loss 0.493\n",
      "adam: Epoch 10 Loss 0.284\n",
      "adam: Epoch 15 Loss 0.153\n",
      "adam: Epoch 20 Loss 0.090\n",
      "adam: Epoch 25 Loss 0.066\n",
      "adam: Epoch 30 Loss 0.069\n",
      "adam: Epoch 35 Loss 0.064\n",
      "adam: Epoch 40 Loss 0.036\n",
      "adam: Epoch 45 Loss 0.051\n",
      "adam: Epoch 50 Loss 0.037\n"
     ]
    }
   ],
   "source": [
    "resultdf = runEcgExperiments(struct_options)"
   ]
  },
  {
   "cell_type": "code",
   "execution_count": 73,
   "metadata": {},
   "outputs": [
    {
     "data": {
      "text/html": [
       "<div>\n",
       "<style scoped>\n",
       "    .dataframe tbody tr th:only-of-type {\n",
       "        vertical-align: middle;\n",
       "    }\n",
       "\n",
       "    .dataframe tbody tr th {\n",
       "        vertical-align: top;\n",
       "    }\n",
       "\n",
       "    .dataframe thead th {\n",
       "        text-align: right;\n",
       "    }\n",
       "</style>\n",
       "<table border=\"1\" class=\"dataframe\">\n",
       "  <thead>\n",
       "    <tr style=\"text-align: right;\">\n",
       "      <th></th>\n",
       "      <th>Conv Structure</th>\n",
       "      <th>FC Structure</th>\n",
       "      <th>Patch Sizes</th>\n",
       "      <th>Strides</th>\n",
       "      <th>Train % correct</th>\n",
       "      <th>Test % correct</th>\n",
       "    </tr>\n",
       "  </thead>\n",
       "  <tbody>\n",
       "    <tr>\n",
       "      <th>0</th>\n",
       "      <td>[5]</td>\n",
       "      <td>[20, 10, 5]</td>\n",
       "      <td>[1]</td>\n",
       "      <td>[1]</td>\n",
       "      <td>59.257732</td>\n",
       "      <td>62.654575</td>\n",
       "    </tr>\n",
       "    <tr>\n",
       "      <th>1</th>\n",
       "      <td>[10]</td>\n",
       "      <td>[]</td>\n",
       "      <td>[100]</td>\n",
       "      <td>[20]</td>\n",
       "      <td>75.381443</td>\n",
       "      <td>71.723001</td>\n",
       "    </tr>\n",
       "    <tr>\n",
       "      <th>2</th>\n",
       "      <td>[20, 10]</td>\n",
       "      <td>[]</td>\n",
       "      <td>[100, 20]</td>\n",
       "      <td>[20, 5]</td>\n",
       "      <td>98.865979</td>\n",
       "      <td>93.487222</td>\n",
       "    </tr>\n",
       "    <tr>\n",
       "      <th>3</th>\n",
       "      <td>[10]</td>\n",
       "      <td>[10]</td>\n",
       "      <td>[100]</td>\n",
       "      <td>[20]</td>\n",
       "      <td>92.103093</td>\n",
       "      <td>73.619126</td>\n",
       "    </tr>\n",
       "    <tr>\n",
       "      <th>4</th>\n",
       "      <td>[20, 10]</td>\n",
       "      <td>[10]</td>\n",
       "      <td>[100, 20]</td>\n",
       "      <td>[20, 5]</td>\n",
       "      <td>99.958763</td>\n",
       "      <td>93.816983</td>\n",
       "    </tr>\n",
       "    <tr>\n",
       "      <th>5</th>\n",
       "      <td>[10]</td>\n",
       "      <td>[20, 10]</td>\n",
       "      <td>[100]</td>\n",
       "      <td>[20]</td>\n",
       "      <td>96.659794</td>\n",
       "      <td>76.422094</td>\n",
       "    </tr>\n",
       "    <tr>\n",
       "      <th>6</th>\n",
       "      <td>[20, 10]</td>\n",
       "      <td>[20, 10]</td>\n",
       "      <td>[100, 20]</td>\n",
       "      <td>[20, 5]</td>\n",
       "      <td>96.597938</td>\n",
       "      <td>87.716406</td>\n",
       "    </tr>\n",
       "    <tr>\n",
       "      <th>7</th>\n",
       "      <td>[10]</td>\n",
       "      <td>[20, 10, 5]</td>\n",
       "      <td>[100]</td>\n",
       "      <td>[20]</td>\n",
       "      <td>96.824742</td>\n",
       "      <td>76.586974</td>\n",
       "    </tr>\n",
       "    <tr>\n",
       "      <th>8</th>\n",
       "      <td>[20, 10]</td>\n",
       "      <td>[20, 10, 5]</td>\n",
       "      <td>[100, 20]</td>\n",
       "      <td>[20, 5]</td>\n",
       "      <td>99.670103</td>\n",
       "      <td>91.591096</td>\n",
       "    </tr>\n",
       "    <tr>\n",
       "      <th>9</th>\n",
       "      <td>[20, 10, 5]</td>\n",
       "      <td>[20, 10, 5]</td>\n",
       "      <td>[100, 20, 5]</td>\n",
       "      <td>[20, 5, 1]</td>\n",
       "      <td>99.608247</td>\n",
       "      <td>95.383347</td>\n",
       "    </tr>\n",
       "  </tbody>\n",
       "</table>\n",
       "</div>"
      ],
      "text/plain": [
       "  Conv Structure FC Structure   Patch Sizes     Strides  Train % correct  \\\n",
       "0            [5]  [20, 10, 5]           [1]         [1]        59.257732   \n",
       "1           [10]           []         [100]        [20]        75.381443   \n",
       "2       [20, 10]           []     [100, 20]     [20, 5]        98.865979   \n",
       "3           [10]         [10]         [100]        [20]        92.103093   \n",
       "4       [20, 10]         [10]     [100, 20]     [20, 5]        99.958763   \n",
       "5           [10]     [20, 10]         [100]        [20]        96.659794   \n",
       "6       [20, 10]     [20, 10]     [100, 20]     [20, 5]        96.597938   \n",
       "7           [10]  [20, 10, 5]         [100]        [20]        96.824742   \n",
       "8       [20, 10]  [20, 10, 5]     [100, 20]     [20, 5]        99.670103   \n",
       "9    [20, 10, 5]  [20, 10, 5]  [100, 20, 5]  [20, 5, 1]        99.608247   \n",
       "\n",
       "   Test % correct  \n",
       "0       62.654575  \n",
       "1       71.723001  \n",
       "2       93.487222  \n",
       "3       73.619126  \n",
       "4       93.816983  \n",
       "5       76.422094  \n",
       "6       87.716406  \n",
       "7       76.586974  \n",
       "8       91.591096  \n",
       "9       95.383347  "
      ]
     },
     "execution_count": 73,
     "metadata": {},
     "output_type": "execute_result"
    }
   ],
   "source": [
    "resultdf"
   ]
  },
  {
   "cell_type": "markdown",
   "metadata": {},
   "source": [
    "### Discussion\n",
    "My results show that increasing the number of convolutional layers or fully connected layers will improve the training accuracy, but increasing the test accuracy usually depends mostly on increasing the number of convolutional layers. This could possibly be improved as well by increasing the number of epochs. It also seems that higher patch sizes improves the overall accuracy. The best performing architecture was the bottom row, which had the highest number of layers for both convolutional and fully connected. This had a near perfect train accuracy and a very satisfying 95% for test accuracy. This is also one of the few architectures that I tried that had a stride of 1 for one of the layers. The affect of the stride would be something to explore further in the futre."
   ]
  },
  {
   "cell_type": "markdown",
   "metadata": {},
   "source": [
    "## Grading and Check-In\n",
    "Download [A5grader.zip](https://www.cs.colostate.edu/~cs445/notebooks/A5grader.zip) and extract A5grader.py from it. Run the code in the following cell to demonstrate an example grading session. Remember to test your code with additional tests of your own design. Your notebook must be named as Lastname-A5.ipynb.  \n",
    "\n",
    "When ready, submit your notebook via the A5 link in our class Canvas web page."
   ]
  },
  {
   "cell_type": "code",
   "execution_count": 49,
   "metadata": {},
   "outputs": [
    {
     "name": "stdout",
     "output_type": "stream",
     "text": [
      "\n",
      "======================= Code Execution =======================\n",
      "\n",
      "Extracting python code from notebook named 'Oleary-A5.ipynb' and storing in notebookcode.py\n",
      "Removing all statements that are not function or class defs or import statements.\n",
      "\n",
      "Testing\n",
      "\n",
      "    xs = np.arange(100)\n",
      "    n_each = 500\n",
      "    n_samples = n_each * 2\n",
      "    X = np.array([np.sin(xs / 2) + np.random.normal(0, 1, size=100) for i in range(n_each)] +\n",
      "                 [np.sin(xs / 3) + np.random.normal(0, 1, size=100) for i in range(n_each)])\n",
      "    X = X[:, np.newaxis, :]\n",
      "    T = np.array([2] * n_each + [3] * n_each).reshape(-1, 1)\n",
      "    rows = np.arange(n_samples)\n",
      "    np.random.shuffle(rows)\n",
      "    X = X[rows, ...]\n",
      "    T = T[rows, ...]\n",
      "    n_train = int(n_samples * 0.8)\n",
      "    Xtrain = X[:n_train, ...]\n",
      "    Ttrain = T[:n_train, :]\n",
      "    Xtest = X[n_train:, ...]\n",
      "    Ttest = T[n_train:, :]\n",
      "\n",
      "    cnn1d = CNN1D(100, [5, 5], [3], 2, [10, 5], [1, 2])\n",
      "    cnn1d.train(Xtrain, Ttrain, 10, 20, 0.01, method='adam')\n",
      "\n",
      "    perc_train = 100 * np.mean(cnn1d.use(Xtrain)[0] == Ttrain)\n",
      "    perc_test = 100 * np.mean(cnn1d.use(Xtest)[0] == Ttest)\n",
      "\n",
      "adam: Epoch 2 Loss 0.012\n",
      "adam: Epoch 4 Loss 0.004\n",
      "adam: Epoch 6 Loss 0.002\n",
      "adam: Epoch 8 Loss 0.001\n",
      "adam: Epoch 10 Loss 0.001\n",
      "adam: Epoch 12 Loss 0.001\n",
      "adam: Epoch 14 Loss 0.000\n",
      "adam: Epoch 16 Loss 0.000\n",
      "adam: Epoch 18 Loss 0.000\n",
      "adam: Epoch 20 Loss 0.000\n",
      "\n",
      "--- 25/25 points.  perc_train is correctly 100%.\n",
      "\n",
      "--- 25/25 points.  perc_test is correctly 100%.\n",
      "\n",
      "======================================================================\n",
      "hw5 Execution Grade is 50 / 50\n",
      "======================================================================\n",
      "\n",
      " __ / 25 Based on results of experiments with MNIST data.\n",
      "\n",
      " __ / 25 Based on results of experiments with ECG data.\n",
      "\n",
      "======================================================================\n",
      "hw5 FINAL GRADE is  _  / 100\n",
      "======================================================================\n",
      "\n",
      "Extra Credit:\n",
      "\n",
      "Earn up to 3 extra credit points on this assignment by doing any or all of the following experiments.\n",
      "\n",
      "1. Compare your results on the MNIST data by using relu versus tanh activation functions. Show and \n",
      "   discuss the results.\n",
      "\n",
      "2. Compare your results on the MNIST data using adam versus sgd. Show and discuss the results.\n",
      "\n",
      "3. Download another image data set, apply your CNN2D class to this data and discuss the results.\n",
      "\n",
      "hw5 EXTRA CREDIT is 0 / 3\n"
     ]
    }
   ],
   "source": [
    "%run -i A5grader.py"
   ]
  },
  {
   "cell_type": "markdown",
   "metadata": {},
   "source": [
    "## Extra Credit\n",
    "Earn up to 3 extra credit points on this assignment by doing any or all of the following experiments. \n",
    "\n",
    "1. Compare your results on the MNIST data by using `relu` versus `tanh` activation functions. Show and discuss the results.\n",
    "2. Compare your results on the MNIST data using `adam` versus `sgd`. Show and discuss the results.\n",
    "3. Download another image data set, apply your `CNN2D` class to this data and discuss the results."
   ]
  }
 ],
 "metadata": {
  "kernelspec": {
   "display_name": "Python 3",
   "language": "python",
   "name": "python3"
  },
  "language_info": {
   "codemirror_mode": {
    "name": "ipython",
    "version": 3
   },
   "file_extension": ".py",
   "mimetype": "text/x-python",
   "name": "python",
   "nbconvert_exporter": "python",
   "pygments_lexer": "ipython3",
   "version": "3.6.8"
  },
  "toc": {
   "base_numbering": 1,
   "nav_menu": {},
   "number_sections": true,
   "sideBar": true,
   "skip_h1_title": false,
   "title_cell": "Table of Contents",
   "title_sidebar": "Contents",
   "toc_cell": false,
   "toc_position": {
    "height": "calc(100% - 180px)",
    "left": "10px",
    "top": "150px",
    "width": "165px"
   },
   "toc_section_display": true,
   "toc_window_display": false
  }
 },
 "nbformat": 4,
 "nbformat_minor": 2
}
